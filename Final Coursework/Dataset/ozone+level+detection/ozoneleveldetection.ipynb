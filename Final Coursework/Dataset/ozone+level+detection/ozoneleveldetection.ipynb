{
 "cells": [
  {
   "cell_type": "code",
   "execution_count": 2,
   "metadata": {},
   "outputs": [
    {
     "name": "stdout",
     "output_type": "stream",
     "text": [
      "Defaulting to user installation because normal site-packages is not writeable\n",
      "Collecting ucimlrepo\n",
      "  Downloading ucimlrepo-0.0.7-py3-none-any.whl.metadata (5.5 kB)\n",
      "Requirement already satisfied: pandas>=1.0.0 in c:\\users\\asus\\appdata\\roaming\\python\\python312\\site-packages (from ucimlrepo) (2.2.2)\n",
      "Requirement already satisfied: certifi>=2020.12.5 in c:\\users\\asus\\appdata\\roaming\\python\\python312\\site-packages (from ucimlrepo) (2024.7.4)\n",
      "Requirement already satisfied: numpy>=1.26.0 in c:\\users\\asus\\appdata\\roaming\\python\\python312\\site-packages (from pandas>=1.0.0->ucimlrepo) (1.26.4)\n",
      "Requirement already satisfied: python-dateutil>=2.8.2 in c:\\users\\asus\\appdata\\roaming\\python\\python312\\site-packages (from pandas>=1.0.0->ucimlrepo) (2.9.0.post0)\n",
      "Requirement already satisfied: pytz>=2020.1 in c:\\users\\asus\\appdata\\roaming\\python\\python312\\site-packages (from pandas>=1.0.0->ucimlrepo) (2024.1)\n",
      "Requirement already satisfied: tzdata>=2022.7 in c:\\users\\asus\\appdata\\roaming\\python\\python312\\site-packages (from pandas>=1.0.0->ucimlrepo) (2024.1)\n",
      "Requirement already satisfied: six>=1.5 in c:\\users\\asus\\appdata\\roaming\\python\\python312\\site-packages (from python-dateutil>=2.8.2->pandas>=1.0.0->ucimlrepo) (1.16.0)\n",
      "Downloading ucimlrepo-0.0.7-py3-none-any.whl (8.0 kB)\n",
      "Installing collected packages: ucimlrepo\n",
      "Successfully installed ucimlrepo-0.0.7\n",
      "Note: you may need to restart the kernel to use updated packages.\n"
     ]
    }
   ],
   "source": [
    "%pip install ucimlrepo"
   ]
  },
  {
   "cell_type": "code",
   "execution_count": 1,
   "metadata": {},
   "outputs": [],
   "source": [
    "import numpy as np \n",
    "import pandas as pd \n",
    "import requests "
   ]
  },
  {
   "cell_type": "code",
   "execution_count": 3,
   "metadata": {},
   "outputs": [],
   "source": [
    "from ucimlrepo import fetch_ucirepo\n",
    "#fetch dataset \n",
    "ozone_level_detection = fetch_ucirepo(id = 172)\n",
    "\n",
    "#data (as pandas dataframes)\n",
    "\n",
    "X = ozone_level_detection.data.features\n",
    "y = ozone_level_detection.data.targets \n"
   ]
  },
  {
   "cell_type": "code",
   "execution_count": 6,
   "metadata": {},
   "outputs": [
    {
     "name": "stdout",
     "output_type": "stream",
     "text": [
      "{'uci_id': 172, 'name': 'Ozone Level Detection', 'repository_url': 'https://archive.ics.uci.edu/dataset/172/ozone+level+detection', 'data_url': 'https://archive.ics.uci.edu/static/public/172/data.csv', 'abstract': 'Two ground ozone level data sets are included in this collection. One is the eight hour peak set (eighthr.data), the other is the one hour peak set (onehr.data). Those data were collected from 1998 to 2004 at the Houston, Galveston and Brazoria area.', 'area': 'Climate and Environment', 'tasks': ['Classification'], 'characteristics': ['Multivariate', 'Sequential', 'Time-Series'], 'num_instances': 2536, 'num_features': 72, 'feature_types': ['Real'], 'demographics': [], 'target_col': ['Class'], 'index_col': ['Dataset', 'Date'], 'has_missing_values': 'yes', 'missing_values_symbol': 'NaN', 'year_of_dataset_creation': 2008, 'last_updated': 'Fri Mar 29 2024', 'dataset_doi': '10.24432/C5NG6W', 'creators': ['Kun Zhang', 'Wei Fan', 'XiaoJing Yuan'], 'intro_paper': None, 'additional_info': {'summary': 'For a list of attributes, please refer to those two .names files.  They use the following naming convention:\\r\\n\\r\\nAll the attribute start with T means the temperature measured at different time throughout the day; and those starts with WS indicate the wind speed at various time.\\r\\n\\r\\nWSR_PK:     continuous. peek wind speed -- resultant (meaning average of wind vector)\\r\\n\\r\\nWSR_AV:     continuous. average wind speed\\r\\n\\r\\nT_PK:     continuous. Peak T\\r\\nT_AV:     continuous. Average T\\r\\nT85:     continuous. T at 850 hpa level (or about 1500 m height)\\r\\nRH85:     continuous. Relative Humidity at 850 hpa\\r\\nU85:     continuous. (U wind - east-west direction wind at 850 hpa)\\r\\nV85:     continuous. V wind - N-S direction wind at 850\\r\\nHT85:     continuous. Geopotential height at 850 hpa, it is about the same as height at low altitude\\r\\nT70:     continuous. T at 700 hpa level (roughly 3100 m height)\\r\\n\\r\\nRH70:     continuous.\\r\\nU70:     continuous.\\r\\nV70:     continuous.\\r\\nHT70:     continuous.\\r\\n\\r\\nT50:     continuous. T at 500 hpa level (roughly at 5500 m height)\\r\\n\\r\\nRH50:     continuous.\\r\\nU50:     continuous.\\r\\nV50:     continuous.\\r\\nHT50:     continuous.\\r\\n\\r\\nKI:     continuous. K-Index http://www.weather.gov/glossary/index.php?letter=k\\r\\nTT:     continuous. T-Totals http://www.theweatherprediction.com/habyhints/302/\\r\\nSLP:     continuous. Sea level pressure\\r\\nSLP_:     continuous. SLP change from previous day\\r\\n\\r\\nPrecp:    continuous. -- precipitation', 'purpose': None, 'funded_by': None, 'instances_represent': None, 'recommended_data_splits': None, 'sensitive_data': None, 'preprocessing_description': None, 'variable_info': 'The following are specifications for several most important attributes that are highly valued by Texas Commission on Environmental Quality (TCEQ). More details can be found in the two relevant papers.\\r\\n \\r\\nO 3 - Local ozone peak prediction\\r\\nUpwind - Upwind ozone background level\\r\\nEmFactor - Precursor emissions related factor\\r\\nTmax - Maximum temperature in degrees F\\r\\nTb - Base temperature where net ozone production begins (50 F)\\r\\nSRd - Solar radiation total for the day\\r\\nWSa - Wind speed near sunrise (using 09-12 UTC forecast mode)\\r\\nWSp - Wind speed mid-day (using 15-21 UTC forecast mode) \\r\\n\\r\\nPlease refer to those two .names files.', 'citation': None}}\n",
      "       name     role         type demographic description units missing_values\n",
      "0   Dataset       ID  Categorical        None        None  None             no\n",
      "1      Date       ID         Date        None        None  None             no\n",
      "2      WSR0  Feature   Continuous        None        None  None            yes\n",
      "3      WSR1  Feature   Continuous        None        None  None            yes\n",
      "4      WSR2  Feature   Continuous        None        None  None            yes\n",
      "..      ...      ...          ...         ...         ...   ...            ...\n",
      "70       TT  Feature   Continuous        None        None  None            yes\n",
      "71      SLP  Feature      Integer        None        None  None            yes\n",
      "72     SLP_  Feature      Integer        None        None  None            yes\n",
      "73    Precp  Feature   Continuous        None        None  None             no\n",
      "74    Class   Target       Binary        None        None  None             no\n",
      "\n",
      "[75 rows x 7 columns]\n"
     ]
    }
   ],
   "source": [
    "#metadata \n",
    "print(ozone_level_detection.metadata)\n",
    "\n",
    "\n",
    "#variable information\n",
    "print(ozone_level_detection.variables)"
   ]
  },
  {
   "cell_type": "code",
   "execution_count": 7,
   "metadata": {},
   "outputs": [
    {
     "data": {
      "text/html": [
       "<div>\n",
       "<style scoped>\n",
       "    .dataframe tbody tr th:only-of-type {\n",
       "        vertical-align: middle;\n",
       "    }\n",
       "\n",
       "    .dataframe tbody tr th {\n",
       "        vertical-align: top;\n",
       "    }\n",
       "\n",
       "    .dataframe thead th {\n",
       "        text-align: right;\n",
       "    }\n",
       "</style>\n",
       "<table border=\"1\" class=\"dataframe\">\n",
       "  <thead>\n",
       "    <tr style=\"text-align: right;\">\n",
       "      <th></th>\n",
       "      <th>WSR0</th>\n",
       "      <th>WSR1</th>\n",
       "      <th>WSR2</th>\n",
       "      <th>WSR3</th>\n",
       "      <th>WSR4</th>\n",
       "      <th>WSR5</th>\n",
       "      <th>WSR6</th>\n",
       "      <th>WSR7</th>\n",
       "      <th>WSR8</th>\n",
       "      <th>WSR9</th>\n",
       "      <th>...</th>\n",
       "      <th>T50</th>\n",
       "      <th>RH50</th>\n",
       "      <th>U50</th>\n",
       "      <th>V50</th>\n",
       "      <th>HT50</th>\n",
       "      <th>KI</th>\n",
       "      <th>TT</th>\n",
       "      <th>SLP</th>\n",
       "      <th>SLP_</th>\n",
       "      <th>Precp</th>\n",
       "    </tr>\n",
       "  </thead>\n",
       "  <tbody>\n",
       "    <tr>\n",
       "      <th>0</th>\n",
       "      <td>0.8</td>\n",
       "      <td>1.8</td>\n",
       "      <td>2.4</td>\n",
       "      <td>2.1</td>\n",
       "      <td>2.0</td>\n",
       "      <td>2.1</td>\n",
       "      <td>1.5</td>\n",
       "      <td>1.7</td>\n",
       "      <td>1.9</td>\n",
       "      <td>2.3</td>\n",
       "      <td>...</td>\n",
       "      <td>-15.5</td>\n",
       "      <td>0.15</td>\n",
       "      <td>10.67</td>\n",
       "      <td>-1.56</td>\n",
       "      <td>5795.0</td>\n",
       "      <td>-12.10</td>\n",
       "      <td>17.9</td>\n",
       "      <td>10330.0</td>\n",
       "      <td>-55.0</td>\n",
       "      <td>0.00</td>\n",
       "    </tr>\n",
       "    <tr>\n",
       "      <th>1</th>\n",
       "      <td>2.8</td>\n",
       "      <td>3.2</td>\n",
       "      <td>3.3</td>\n",
       "      <td>2.7</td>\n",
       "      <td>3.3</td>\n",
       "      <td>3.2</td>\n",
       "      <td>2.9</td>\n",
       "      <td>2.8</td>\n",
       "      <td>3.1</td>\n",
       "      <td>3.4</td>\n",
       "      <td>...</td>\n",
       "      <td>-14.5</td>\n",
       "      <td>0.48</td>\n",
       "      <td>8.39</td>\n",
       "      <td>3.84</td>\n",
       "      <td>5805.0</td>\n",
       "      <td>14.05</td>\n",
       "      <td>29.0</td>\n",
       "      <td>10275.0</td>\n",
       "      <td>-55.0</td>\n",
       "      <td>0.00</td>\n",
       "    </tr>\n",
       "    <tr>\n",
       "      <th>2</th>\n",
       "      <td>2.9</td>\n",
       "      <td>2.8</td>\n",
       "      <td>2.6</td>\n",
       "      <td>2.1</td>\n",
       "      <td>2.2</td>\n",
       "      <td>2.5</td>\n",
       "      <td>2.5</td>\n",
       "      <td>2.7</td>\n",
       "      <td>2.2</td>\n",
       "      <td>2.5</td>\n",
       "      <td>...</td>\n",
       "      <td>-15.9</td>\n",
       "      <td>0.60</td>\n",
       "      <td>6.94</td>\n",
       "      <td>9.80</td>\n",
       "      <td>5790.0</td>\n",
       "      <td>17.90</td>\n",
       "      <td>41.3</td>\n",
       "      <td>10235.0</td>\n",
       "      <td>-40.0</td>\n",
       "      <td>0.00</td>\n",
       "    </tr>\n",
       "    <tr>\n",
       "      <th>3</th>\n",
       "      <td>4.7</td>\n",
       "      <td>3.8</td>\n",
       "      <td>3.7</td>\n",
       "      <td>3.8</td>\n",
       "      <td>2.9</td>\n",
       "      <td>3.1</td>\n",
       "      <td>2.8</td>\n",
       "      <td>2.5</td>\n",
       "      <td>2.4</td>\n",
       "      <td>3.1</td>\n",
       "      <td>...</td>\n",
       "      <td>-16.8</td>\n",
       "      <td>0.49</td>\n",
       "      <td>8.73</td>\n",
       "      <td>10.54</td>\n",
       "      <td>5775.0</td>\n",
       "      <td>31.15</td>\n",
       "      <td>51.7</td>\n",
       "      <td>10195.0</td>\n",
       "      <td>-40.0</td>\n",
       "      <td>2.08</td>\n",
       "    </tr>\n",
       "    <tr>\n",
       "      <th>4</th>\n",
       "      <td>2.6</td>\n",
       "      <td>2.1</td>\n",
       "      <td>1.6</td>\n",
       "      <td>1.4</td>\n",
       "      <td>0.9</td>\n",
       "      <td>1.5</td>\n",
       "      <td>1.2</td>\n",
       "      <td>1.4</td>\n",
       "      <td>1.3</td>\n",
       "      <td>1.4</td>\n",
       "      <td>...</td>\n",
       "      <td>NaN</td>\n",
       "      <td>NaN</td>\n",
       "      <td>NaN</td>\n",
       "      <td>NaN</td>\n",
       "      <td>NaN</td>\n",
       "      <td>NaN</td>\n",
       "      <td>NaN</td>\n",
       "      <td>NaN</td>\n",
       "      <td>NaN</td>\n",
       "      <td>0.58</td>\n",
       "    </tr>\n",
       "  </tbody>\n",
       "</table>\n",
       "<p>5 rows × 72 columns</p>\n",
       "</div>"
      ],
      "text/plain": [
       "   WSR0  WSR1  WSR2  WSR3  WSR4  WSR5  WSR6  WSR7  WSR8  WSR9  ...   T50  \\\n",
       "0   0.8   1.8   2.4   2.1   2.0   2.1   1.5   1.7   1.9   2.3  ... -15.5   \n",
       "1   2.8   3.2   3.3   2.7   3.3   3.2   2.9   2.8   3.1   3.4  ... -14.5   \n",
       "2   2.9   2.8   2.6   2.1   2.2   2.5   2.5   2.7   2.2   2.5  ... -15.9   \n",
       "3   4.7   3.8   3.7   3.8   2.9   3.1   2.8   2.5   2.4   3.1  ... -16.8   \n",
       "4   2.6   2.1   1.6   1.4   0.9   1.5   1.2   1.4   1.3   1.4  ...   NaN   \n",
       "\n",
       "   RH50    U50    V50    HT50     KI    TT      SLP  SLP_  Precp  \n",
       "0  0.15  10.67  -1.56  5795.0 -12.10  17.9  10330.0 -55.0   0.00  \n",
       "1  0.48   8.39   3.84  5805.0  14.05  29.0  10275.0 -55.0   0.00  \n",
       "2  0.60   6.94   9.80  5790.0  17.90  41.3  10235.0 -40.0   0.00  \n",
       "3  0.49   8.73  10.54  5775.0  31.15  51.7  10195.0 -40.0   2.08  \n",
       "4   NaN    NaN    NaN     NaN    NaN   NaN      NaN   NaN   0.58  \n",
       "\n",
       "[5 rows x 72 columns]"
      ]
     },
     "execution_count": 7,
     "metadata": {},
     "output_type": "execute_result"
    }
   ],
   "source": [
    "X.head()"
   ]
  },
  {
   "cell_type": "code",
   "execution_count": 8,
   "metadata": {},
   "outputs": [
    {
     "data": {
      "text/html": [
       "<div>\n",
       "<style scoped>\n",
       "    .dataframe tbody tr th:only-of-type {\n",
       "        vertical-align: middle;\n",
       "    }\n",
       "\n",
       "    .dataframe tbody tr th {\n",
       "        vertical-align: top;\n",
       "    }\n",
       "\n",
       "    .dataframe thead th {\n",
       "        text-align: right;\n",
       "    }\n",
       "</style>\n",
       "<table border=\"1\" class=\"dataframe\">\n",
       "  <thead>\n",
       "    <tr style=\"text-align: right;\">\n",
       "      <th></th>\n",
       "      <th>Class</th>\n",
       "    </tr>\n",
       "  </thead>\n",
       "  <tbody>\n",
       "    <tr>\n",
       "      <th>0</th>\n",
       "      <td>0</td>\n",
       "    </tr>\n",
       "    <tr>\n",
       "      <th>1</th>\n",
       "      <td>0</td>\n",
       "    </tr>\n",
       "    <tr>\n",
       "      <th>2</th>\n",
       "      <td>0</td>\n",
       "    </tr>\n",
       "    <tr>\n",
       "      <th>3</th>\n",
       "      <td>0</td>\n",
       "    </tr>\n",
       "    <tr>\n",
       "      <th>4</th>\n",
       "      <td>0</td>\n",
       "    </tr>\n",
       "  </tbody>\n",
       "</table>\n",
       "</div>"
      ],
      "text/plain": [
       "   Class\n",
       "0      0\n",
       "1      0\n",
       "2      0\n",
       "3      0\n",
       "4      0"
      ]
     },
     "execution_count": 8,
     "metadata": {},
     "output_type": "execute_result"
    }
   ],
   "source": [
    "y.head()"
   ]
  },
  {
   "cell_type": "code",
   "execution_count": 9,
   "metadata": {},
   "outputs": [
    {
     "data": {
      "text/plain": [
       "Class    2\n",
       "dtype: int64"
      ]
     },
     "execution_count": 9,
     "metadata": {},
     "output_type": "execute_result"
    }
   ],
   "source": [
    "y.nunique()"
   ]
  },
  {
   "cell_type": "code",
   "execution_count": 10,
   "metadata": {},
   "outputs": [
    {
     "name": "stdout",
     "output_type": "stream",
     "text": [
      "<class 'pandas.core.frame.DataFrame'>\n",
      "RangeIndex: 5070 entries, 0 to 5069\n",
      "Data columns (total 72 columns):\n",
      " #   Column  Non-Null Count  Dtype  \n",
      "---  ------  --------------  -----  \n",
      " 0   WSR0    4472 non-null   float64\n",
      " 1   WSR1    4486 non-null   float64\n",
      " 2   WSR2    4482 non-null   float64\n",
      " 3   WSR3    4486 non-null   float64\n",
      " 4   WSR4    4484 non-null   float64\n",
      " 5   WSR5    4486 non-null   float64\n",
      " 6   WSR6    4488 non-null   float64\n",
      " 7   WSR7    4492 non-null   float64\n",
      " 8   WSR8    4490 non-null   float64\n",
      " 9   WSR9    4496 non-null   float64\n",
      " 10  WSR10   4494 non-null   float64\n",
      " 11  WSR11   4486 non-null   float64\n",
      " 12  WSR12   4496 non-null   float64\n",
      " 13  WSR13   4494 non-null   float64\n",
      " 14  WSR14   4494 non-null   float64\n",
      " 15  WSR15   4498 non-null   float64\n",
      " 16  WSR16   4502 non-null   float64\n",
      " 17  WSR17   4504 non-null   float64\n",
      " 18  WSR18   4498 non-null   float64\n",
      " 19  WSR19   4486 non-null   float64\n",
      " 20  WSR20   4482 non-null   float64\n",
      " 21  WSR21   4484 non-null   float64\n",
      " 22  WSR22   4470 non-null   float64\n",
      " 23  WSR23   4476 non-null   float64\n",
      " 24  WSR_PK  4524 non-null   float64\n",
      " 25  WSR_AV  4524 non-null   float64\n",
      " 26  T0      4690 non-null   float64\n",
      " 27  T1      4700 non-null   float64\n",
      " 28  T2      4696 non-null   float64\n",
      " 29  T3      4702 non-null   float64\n",
      " 30  T4      4702 non-null   float64\n",
      " 31  T5      4704 non-null   float64\n",
      " 32  T6      4704 non-null   float64\n",
      " 33  T7      4704 non-null   float64\n",
      " 34  T8      4700 non-null   float64\n",
      " 35  T9      4700 non-null   float64\n",
      " 36  T10     4694 non-null   float64\n",
      " 37  T11     4686 non-null   float64\n",
      " 38  T12     4692 non-null   float64\n",
      " 39  T13     4688 non-null   float64\n",
      " 40  T14     4686 non-null   float64\n",
      " 41  T15     4696 non-null   float64\n",
      " 42  T16     4702 non-null   float64\n",
      " 43  T17     4706 non-null   float64\n",
      " 44  T18     4702 non-null   float64\n",
      " 45  T19     4694 non-null   float64\n",
      " 46  T20     4692 non-null   float64\n",
      " 47  T21     4700 non-null   float64\n",
      " 48  T22     4686 non-null   float64\n",
      " 49  T23     4692 non-null   float64\n",
      " 50  T_PK    4720 non-null   float64\n",
      " 51  T_AV    4720 non-null   float64\n",
      " 52  T85     4872 non-null   float64\n",
      " 53  RH85    4860 non-null   float64\n",
      " 54  U85     4710 non-null   float64\n",
      " 55  V85     4710 non-null   float64\n",
      " 56  HT85    4880 non-null   float64\n",
      " 57  T70     4856 non-null   float64\n",
      " 58  RH70    4840 non-null   float64\n",
      " 59  U70     4756 non-null   float64\n",
      " 60  V70     4756 non-null   float64\n",
      " 61  HT70    4870 non-null   float64\n",
      " 62  T50     4840 non-null   float64\n",
      " 63  RH50    4820 non-null   float64\n",
      " 64  U50     4650 non-null   float64\n",
      " 65  V50     4650 non-null   float64\n",
      " 66  HT50    4846 non-null   float64\n",
      " 67  KI      4798 non-null   float64\n",
      " 68  TT      4820 non-null   float64\n",
      " 69  SLP     4880 non-null   float64\n",
      " 70  SLP_    4753 non-null   float64\n",
      " 71  Precp   5066 non-null   float64\n",
      "dtypes: float64(72)\n",
      "memory usage: 2.8 MB\n"
     ]
    }
   ],
   "source": [
    "X.info()"
   ]
  },
  {
   "cell_type": "code",
   "execution_count": 11,
   "metadata": {},
   "outputs": [
    {
     "data": {
      "text/plain": [
       "WSR0     598\n",
       "WSR1     584\n",
       "WSR2     588\n",
       "WSR3     584\n",
       "WSR4     586\n",
       "        ... \n",
       "KI       272\n",
       "TT       250\n",
       "SLP      190\n",
       "SLP_     317\n",
       "Precp      4\n",
       "Length: 72, dtype: int64"
      ]
     },
     "execution_count": 11,
     "metadata": {},
     "output_type": "execute_result"
    }
   ],
   "source": [
    "X.isnull().sum()"
   ]
  },
  {
   "cell_type": "code",
   "execution_count": 12,
   "metadata": {},
   "outputs": [],
   "source": [
    "X = X.dropna()"
   ]
  },
  {
   "cell_type": "code",
   "execution_count": 13,
   "metadata": {},
   "outputs": [
    {
     "data": {
      "text/plain": [
       "(3695, 72)"
      ]
     },
     "execution_count": 13,
     "metadata": {},
     "output_type": "execute_result"
    }
   ],
   "source": [
    "X.shape"
   ]
  },
  {
   "cell_type": "code",
   "execution_count": 14,
   "metadata": {},
   "outputs": [
    {
     "name": "stdout",
     "output_type": "stream",
     "text": [
      "<class 'pandas.core.frame.DataFrame'>\n",
      "Index: 3695 entries, 0 to 5069\n",
      "Data columns (total 72 columns):\n",
      " #   Column  Non-Null Count  Dtype  \n",
      "---  ------  --------------  -----  \n",
      " 0   WSR0    3695 non-null   float64\n",
      " 1   WSR1    3695 non-null   float64\n",
      " 2   WSR2    3695 non-null   float64\n",
      " 3   WSR3    3695 non-null   float64\n",
      " 4   WSR4    3695 non-null   float64\n",
      " 5   WSR5    3695 non-null   float64\n",
      " 6   WSR6    3695 non-null   float64\n",
      " 7   WSR7    3695 non-null   float64\n",
      " 8   WSR8    3695 non-null   float64\n",
      " 9   WSR9    3695 non-null   float64\n",
      " 10  WSR10   3695 non-null   float64\n",
      " 11  WSR11   3695 non-null   float64\n",
      " 12  WSR12   3695 non-null   float64\n",
      " 13  WSR13   3695 non-null   float64\n",
      " 14  WSR14   3695 non-null   float64\n",
      " 15  WSR15   3695 non-null   float64\n",
      " 16  WSR16   3695 non-null   float64\n",
      " 17  WSR17   3695 non-null   float64\n",
      " 18  WSR18   3695 non-null   float64\n",
      " 19  WSR19   3695 non-null   float64\n",
      " 20  WSR20   3695 non-null   float64\n",
      " 21  WSR21   3695 non-null   float64\n",
      " 22  WSR22   3695 non-null   float64\n",
      " 23  WSR23   3695 non-null   float64\n",
      " 24  WSR_PK  3695 non-null   float64\n",
      " 25  WSR_AV  3695 non-null   float64\n",
      " 26  T0      3695 non-null   float64\n",
      " 27  T1      3695 non-null   float64\n",
      " 28  T2      3695 non-null   float64\n",
      " 29  T3      3695 non-null   float64\n",
      " 30  T4      3695 non-null   float64\n",
      " 31  T5      3695 non-null   float64\n",
      " 32  T6      3695 non-null   float64\n",
      " 33  T7      3695 non-null   float64\n",
      " 34  T8      3695 non-null   float64\n",
      " 35  T9      3695 non-null   float64\n",
      " 36  T10     3695 non-null   float64\n",
      " 37  T11     3695 non-null   float64\n",
      " 38  T12     3695 non-null   float64\n",
      " 39  T13     3695 non-null   float64\n",
      " 40  T14     3695 non-null   float64\n",
      " 41  T15     3695 non-null   float64\n",
      " 42  T16     3695 non-null   float64\n",
      " 43  T17     3695 non-null   float64\n",
      " 44  T18     3695 non-null   float64\n",
      " 45  T19     3695 non-null   float64\n",
      " 46  T20     3695 non-null   float64\n",
      " 47  T21     3695 non-null   float64\n",
      " 48  T22     3695 non-null   float64\n",
      " 49  T23     3695 non-null   float64\n",
      " 50  T_PK    3695 non-null   float64\n",
      " 51  T_AV    3695 non-null   float64\n",
      " 52  T85     3695 non-null   float64\n",
      " 53  RH85    3695 non-null   float64\n",
      " 54  U85     3695 non-null   float64\n",
      " 55  V85     3695 non-null   float64\n",
      " 56  HT85    3695 non-null   float64\n",
      " 57  T70     3695 non-null   float64\n",
      " 58  RH70    3695 non-null   float64\n",
      " 59  U70     3695 non-null   float64\n",
      " 60  V70     3695 non-null   float64\n",
      " 61  HT70    3695 non-null   float64\n",
      " 62  T50     3695 non-null   float64\n",
      " 63  RH50    3695 non-null   float64\n",
      " 64  U50     3695 non-null   float64\n",
      " 65  V50     3695 non-null   float64\n",
      " 66  HT50    3695 non-null   float64\n",
      " 67  KI      3695 non-null   float64\n",
      " 68  TT      3695 non-null   float64\n",
      " 69  SLP     3695 non-null   float64\n",
      " 70  SLP_    3695 non-null   float64\n",
      " 71  Precp   3695 non-null   float64\n",
      "dtypes: float64(72)\n",
      "memory usage: 2.1 MB\n"
     ]
    }
   ],
   "source": [
    "X.info()"
   ]
  },
  {
   "cell_type": "code",
   "execution_count": 16,
   "metadata": {},
   "outputs": [
    {
     "data": {
      "text/html": [
       "<div>\n",
       "<style scoped>\n",
       "    .dataframe tbody tr th:only-of-type {\n",
       "        vertical-align: middle;\n",
       "    }\n",
       "\n",
       "    .dataframe tbody tr th {\n",
       "        vertical-align: top;\n",
       "    }\n",
       "\n",
       "    .dataframe thead th {\n",
       "        text-align: right;\n",
       "    }\n",
       "</style>\n",
       "<table border=\"1\" class=\"dataframe\">\n",
       "  <thead>\n",
       "    <tr style=\"text-align: right;\">\n",
       "      <th></th>\n",
       "      <th>Class</th>\n",
       "    </tr>\n",
       "  </thead>\n",
       "  <tbody>\n",
       "    <tr>\n",
       "      <th>3197</th>\n",
       "      <td>0</td>\n",
       "    </tr>\n",
       "    <tr>\n",
       "      <th>3536</th>\n",
       "      <td>0</td>\n",
       "    </tr>\n",
       "    <tr>\n",
       "      <th>339</th>\n",
       "      <td>0</td>\n",
       "    </tr>\n",
       "    <tr>\n",
       "      <th>836</th>\n",
       "      <td>0</td>\n",
       "    </tr>\n",
       "    <tr>\n",
       "      <th>4160</th>\n",
       "      <td>0</td>\n",
       "    </tr>\n",
       "    <tr>\n",
       "      <th>3211</th>\n",
       "      <td>0</td>\n",
       "    </tr>\n",
       "    <tr>\n",
       "      <th>1061</th>\n",
       "      <td>0</td>\n",
       "    </tr>\n",
       "    <tr>\n",
       "      <th>499</th>\n",
       "      <td>0</td>\n",
       "    </tr>\n",
       "    <tr>\n",
       "      <th>5057</th>\n",
       "      <td>0</td>\n",
       "    </tr>\n",
       "    <tr>\n",
       "      <th>2899</th>\n",
       "      <td>0</td>\n",
       "    </tr>\n",
       "  </tbody>\n",
       "</table>\n",
       "</div>"
      ],
      "text/plain": [
       "      Class\n",
       "3197      0\n",
       "3536      0\n",
       "339       0\n",
       "836       0\n",
       "4160      0\n",
       "3211      0\n",
       "1061      0\n",
       "499       0\n",
       "5057      0\n",
       "2899      0"
      ]
     },
     "execution_count": 16,
     "metadata": {},
     "output_type": "execute_result"
    }
   ],
   "source": [
    "y.sample(n = 10)"
   ]
  },
  {
   "cell_type": "code",
   "execution_count": 18,
   "metadata": {},
   "outputs": [
    {
     "data": {
      "text/plain": [
       "Class    2\n",
       "dtype: int64"
      ]
     },
     "execution_count": 18,
     "metadata": {},
     "output_type": "execute_result"
    }
   ],
   "source": [
    "y.nunique()"
   ]
  },
  {
   "cell_type": "code",
   "execution_count": 19,
   "metadata": {},
   "outputs": [
    {
     "data": {
      "text/plain": [
       "Class\n",
       "0        4837\n",
       "1         233\n",
       "Name: count, dtype: int64"
      ]
     },
     "execution_count": 19,
     "metadata": {},
     "output_type": "execute_result"
    }
   ],
   "source": [
    "y.value_counts()"
   ]
  },
  {
   "cell_type": "code",
   "execution_count": null,
   "metadata": {},
   "outputs": [],
   "source": []
  }
 ],
 "metadata": {
  "kernelspec": {
   "display_name": "Python 3",
   "language": "python",
   "name": "python3"
  },
  "language_info": {
   "codemirror_mode": {
    "name": "ipython",
    "version": 3
   },
   "file_extension": ".py",
   "mimetype": "text/x-python",
   "name": "python",
   "nbconvert_exporter": "python",
   "pygments_lexer": "ipython3",
   "version": "3.12.4"
  }
 },
 "nbformat": 4,
 "nbformat_minor": 2
}
