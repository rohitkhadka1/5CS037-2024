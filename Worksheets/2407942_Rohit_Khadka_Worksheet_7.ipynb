{
 "cells": [
  {
   "cell_type": "code",
   "execution_count": 176,
   "metadata": {},
   "outputs": [],
   "source": [
    "#import necessary libraries \n",
    "import numpy as np\n",
    "import pandas as pd \n",
    "from sklearn.preprocessing import StandardScaler\n",
    "from sklearn.model_selection import train_test_split\n",
    "from sklearn.linear_model import LinearRegression\n",
    "from sklearn.metrics import mean_squared_error, r2_score\n",
    "import matplotlib.pyplot as plt \n",
    "import seaborn as sns"
   ]
  },
  {
   "cell_type": "code",
   "execution_count": 177,
   "metadata": {},
   "outputs": [
    {
     "data": {
      "text/html": [
       "<div>\n",
       "<style scoped>\n",
       "    .dataframe tbody tr th:only-of-type {\n",
       "        vertical-align: middle;\n",
       "    }\n",
       "\n",
       "    .dataframe tbody tr th {\n",
       "        vertical-align: top;\n",
       "    }\n",
       "\n",
       "    .dataframe thead th {\n",
       "        text-align: right;\n",
       "    }\n",
       "</style>\n",
       "<table border=\"1\" class=\"dataframe\">\n",
       "  <thead>\n",
       "    <tr style=\"text-align: right;\">\n",
       "      <th></th>\n",
       "      <th>Pregnancies</th>\n",
       "      <th>Glucose</th>\n",
       "      <th>BloodPressure</th>\n",
       "      <th>SkinThickness</th>\n",
       "      <th>Insulin</th>\n",
       "      <th>BMI</th>\n",
       "      <th>DiabetesPedigreeFunction</th>\n",
       "      <th>Age</th>\n",
       "      <th>Outcome</th>\n",
       "    </tr>\n",
       "  </thead>\n",
       "  <tbody>\n",
       "    <tr>\n",
       "      <th>0</th>\n",
       "      <td>6</td>\n",
       "      <td>148</td>\n",
       "      <td>72</td>\n",
       "      <td>35</td>\n",
       "      <td>0</td>\n",
       "      <td>33.6</td>\n",
       "      <td>0.627</td>\n",
       "      <td>50</td>\n",
       "      <td>1</td>\n",
       "    </tr>\n",
       "    <tr>\n",
       "      <th>1</th>\n",
       "      <td>1</td>\n",
       "      <td>85</td>\n",
       "      <td>66</td>\n",
       "      <td>29</td>\n",
       "      <td>0</td>\n",
       "      <td>26.6</td>\n",
       "      <td>0.351</td>\n",
       "      <td>31</td>\n",
       "      <td>0</td>\n",
       "    </tr>\n",
       "    <tr>\n",
       "      <th>2</th>\n",
       "      <td>8</td>\n",
       "      <td>183</td>\n",
       "      <td>64</td>\n",
       "      <td>0</td>\n",
       "      <td>0</td>\n",
       "      <td>23.3</td>\n",
       "      <td>0.672</td>\n",
       "      <td>32</td>\n",
       "      <td>1</td>\n",
       "    </tr>\n",
       "    <tr>\n",
       "      <th>3</th>\n",
       "      <td>1</td>\n",
       "      <td>89</td>\n",
       "      <td>66</td>\n",
       "      <td>23</td>\n",
       "      <td>94</td>\n",
       "      <td>28.1</td>\n",
       "      <td>0.167</td>\n",
       "      <td>21</td>\n",
       "      <td>0</td>\n",
       "    </tr>\n",
       "    <tr>\n",
       "      <th>4</th>\n",
       "      <td>0</td>\n",
       "      <td>137</td>\n",
       "      <td>40</td>\n",
       "      <td>35</td>\n",
       "      <td>168</td>\n",
       "      <td>43.1</td>\n",
       "      <td>2.288</td>\n",
       "      <td>33</td>\n",
       "      <td>1</td>\n",
       "    </tr>\n",
       "  </tbody>\n",
       "</table>\n",
       "</div>"
      ],
      "text/plain": [
       "   Pregnancies  Glucose  BloodPressure  SkinThickness  Insulin   BMI  \\\n",
       "0            6      148             72             35        0  33.6   \n",
       "1            1       85             66             29        0  26.6   \n",
       "2            8      183             64              0        0  23.3   \n",
       "3            1       89             66             23       94  28.1   \n",
       "4            0      137             40             35      168  43.1   \n",
       "\n",
       "   DiabetesPedigreeFunction  Age  Outcome  \n",
       "0                     0.627   50        1  \n",
       "1                     0.351   31        0  \n",
       "2                     0.672   32        1  \n",
       "3                     0.167   21        0  \n",
       "4                     2.288   33        1  "
      ]
     },
     "execution_count": 177,
     "metadata": {},
     "output_type": "execute_result"
    }
   ],
   "source": [
    "df = pd.read_csv(r\"C:\\Users\\Asus\\Desktop\\ML_Herald\\Repository\\5CS037-2024-Rohit\\Worksheets\\Datasets\\archive\\diabetes.csv\")\n",
    "df.head()"
   ]
  },
  {
   "cell_type": "code",
   "execution_count": 178,
   "metadata": {},
   "outputs": [
    {
     "data": {
      "text/plain": [
       "(768, 5)"
      ]
     },
     "execution_count": 178,
     "metadata": {},
     "output_type": "execute_result"
    }
   ],
   "source": [
    "#Regression Task\n",
    "X = df.drop(columns = ['BloodPressure', 'Outcome', 'Pregnancies', 'Age'], axis = 1)\n",
    "y = df['BloodPressure']\n",
    "X.shape\n"
   ]
  },
  {
   "cell_type": "code",
   "execution_count": 179,
   "metadata": {},
   "outputs": [],
   "source": [
    "#Splitting the data \n",
    "X_train, X_test, y_train, y_test = train_test_split(X, y, test_size= 0.25, shuffle = True)"
   ]
  },
  {
   "cell_type": "code",
   "execution_count": 180,
   "metadata": {},
   "outputs": [
    {
     "data": {
      "text/plain": [
       "array([[ 0.84616953,  1.27027835, -0.69623333,  2.10077171, -0.34119748],\n",
       "       [-0.80225126,  1.5190223 ,  0.12346888,  0.55047296, -0.42368265],\n",
       "       [-0.96075326, -1.27934714, -0.69623333,  1.30139892,  0.25092819],\n",
       "       [ 0.49746513,  1.82995224,  1.12136723,  0.65947834, -0.22041563],\n",
       "       [ 2.39948911,  0.5240465 ,  1.79851254,  0.67159005,  0.38643953]])"
      ]
     },
     "execution_count": 180,
     "metadata": {},
     "output_type": "execute_result"
    }
   ],
   "source": [
    "#Scaling the data\n",
    "scaler = StandardScaler()\n",
    "X_train_scaled = scaler.fit_transform(X_train)\n",
    "X_test_scaled = scaler.transform(X_test)\n",
    "X_train_scaled[0:5]\n"
   ]
  },
  {
   "cell_type": "code",
   "execution_count": 181,
   "metadata": {},
   "outputs": [],
   "source": [
    "#Regression model\n",
    "model = LinearRegression()\n",
    "#Train the model\n",
    "model.fit(X_train_scaled, y_train)\n",
    "#Predict the outcomes\n",
    "y_pred =model.predict(X_test_scaled)\n",
    "\n"
   ]
  },
  {
   "cell_type": "code",
   "execution_count": 182,
   "metadata": {},
   "outputs": [
    {
     "name": "stdout",
     "output_type": "stream",
     "text": [
      "The mean squared error is: 336.7702016061838\n",
      "The root mean square error is: 18.351299725256077\n",
      "The r2 score of the model is: 0.06276270844335474\n"
     ]
    }
   ],
   "source": [
    "#Model evaluation\n",
    "mean_squared_error = mean_squared_error(y_test, y_pred)\n",
    "print(f\"The mean squared error is: {mean_squared_error}\")\n",
    "print(f\"The root mean square error is: {np.sqrt(mean_squared_error)}\")\n",
    "r2_score = r2_score(y_test, y_pred)\n",
    "print(f\"The r2 score of the model is: {r2_score}\")"
   ]
  },
  {
   "cell_type": "code",
   "execution_count": 183,
   "metadata": {},
   "outputs": [
    {
     "name": "stdout",
     "output_type": "stream",
     "text": [
      "Coefficient (Slope): [ 2.82621319  2.60138991 -1.12616672  4.40294885 -0.4055649 ]\n",
      "Intercept: 69.29861111111111\n"
     ]
    }
   ],
   "source": [
    "#Model parameters\n",
    "print(f\"Coefficient (Slope): {model.coef_}\")\n",
    "print(f\"Intercept: {model.intercept_}\")"
   ]
  },
  {
   "cell_type": "code",
   "execution_count": 184,
   "metadata": {},
   "outputs": [
    {
     "data": {
      "text/plain": [
       "<Axes: title={'center': 'Actual vs Predicted'}, xlabel='y_test', ylabel='y_pred'>"
      ]
     },
     "execution_count": 184,
     "metadata": {},
     "output_type": "execute_result"
    },
    {
     "data": {
      "image/png": "[encoded data removed]",
      "text/plain": [
       "<Figure size 640x480 with 1 Axes>"
      ]
     },
     "metadata": {},
     "output_type": "display_data"
    }
   ],
   "source": [
    "# Create a new dataframe with y_test and y_pred\n",
    "results_df = pd.DataFrame({'y_test': y_test, 'y_pred': y_pred})\n",
    "\n",
    "# Plot the actual vs predicted values\n",
    "plt.title(\"Actual vs Predicted\")\n",
    "sns.scatterplot(x='y_test', y='y_pred', data=results_df)"
   ]
  },
  {
   "cell_type": "code",
   "execution_count": 185,
   "metadata": {},
   "outputs": [],
   "source": [
    "#Import necessary libraries \n",
    "from sklearn.linear_model import LogisticRegression\n",
    "from sklearn.metrics import accuracy_score, precision_score, recall_score, f1_score, confusion_matrix, roc_auc_score\n",
    "\n"
   ]
  },
  {
   "cell_type": "code",
   "execution_count": 186,
   "metadata": {},
   "outputs": [
    {
     "data": {
      "text/html": [
       "<div>\n",
       "<style scoped>\n",
       "    .dataframe tbody tr th:only-of-type {\n",
       "        vertical-align: middle;\n",
       "    }\n",
       "\n",
       "    .dataframe tbody tr th {\n",
       "        vertical-align: top;\n",
       "    }\n",
       "\n",
       "    .dataframe thead th {\n",
       "        text-align: right;\n",
       "    }\n",
       "</style>\n",
       "<table border=\"1\" class=\"dataframe\">\n",
       "  <thead>\n",
       "    <tr style=\"text-align: right;\">\n",
       "      <th></th>\n",
       "      <th>Pregnancies</th>\n",
       "      <th>Glucose</th>\n",
       "      <th>BloodPressure</th>\n",
       "      <th>SkinThickness</th>\n",
       "      <th>Insulin</th>\n",
       "      <th>BMI</th>\n",
       "      <th>DiabetesPedigreeFunction</th>\n",
       "      <th>Age</th>\n",
       "      <th>Outcome</th>\n",
       "    </tr>\n",
       "  </thead>\n",
       "  <tbody>\n",
       "    <tr>\n",
       "      <th>0</th>\n",
       "      <td>6</td>\n",
       "      <td>148</td>\n",
       "      <td>72</td>\n",
       "      <td>35</td>\n",
       "      <td>0</td>\n",
       "      <td>33.6</td>\n",
       "      <td>0.627</td>\n",
       "      <td>50</td>\n",
       "      <td>1</td>\n",
       "    </tr>\n",
       "    <tr>\n",
       "      <th>1</th>\n",
       "      <td>1</td>\n",
       "      <td>85</td>\n",
       "      <td>66</td>\n",
       "      <td>29</td>\n",
       "      <td>0</td>\n",
       "      <td>26.6</td>\n",
       "      <td>0.351</td>\n",
       "      <td>31</td>\n",
       "      <td>0</td>\n",
       "    </tr>\n",
       "    <tr>\n",
       "      <th>2</th>\n",
       "      <td>8</td>\n",
       "      <td>183</td>\n",
       "      <td>64</td>\n",
       "      <td>0</td>\n",
       "      <td>0</td>\n",
       "      <td>23.3</td>\n",
       "      <td>0.672</td>\n",
       "      <td>32</td>\n",
       "      <td>1</td>\n",
       "    </tr>\n",
       "    <tr>\n",
       "      <th>3</th>\n",
       "      <td>1</td>\n",
       "      <td>89</td>\n",
       "      <td>66</td>\n",
       "      <td>23</td>\n",
       "      <td>94</td>\n",
       "      <td>28.1</td>\n",
       "      <td>0.167</td>\n",
       "      <td>21</td>\n",
       "      <td>0</td>\n",
       "    </tr>\n",
       "    <tr>\n",
       "      <th>4</th>\n",
       "      <td>0</td>\n",
       "      <td>137</td>\n",
       "      <td>40</td>\n",
       "      <td>35</td>\n",
       "      <td>168</td>\n",
       "      <td>43.1</td>\n",
       "      <td>2.288</td>\n",
       "      <td>33</td>\n",
       "      <td>1</td>\n",
       "    </tr>\n",
       "  </tbody>\n",
       "</table>\n",
       "</div>"
      ],
      "text/plain": [
       "   Pregnancies  Glucose  BloodPressure  SkinThickness  Insulin   BMI  \\\n",
       "0            6      148             72             35        0  33.6   \n",
       "1            1       85             66             29        0  26.6   \n",
       "2            8      183             64              0        0  23.3   \n",
       "3            1       89             66             23       94  28.1   \n",
       "4            0      137             40             35      168  43.1   \n",
       "\n",
       "   DiabetesPedigreeFunction  Age  Outcome  \n",
       "0                     0.627   50        1  \n",
       "1                     0.351   31        0  \n",
       "2                     0.672   32        1  \n",
       "3                     0.167   21        0  \n",
       "4                     2.288   33        1  "
      ]
     },
     "execution_count": 186,
     "metadata": {},
     "output_type": "execute_result"
    }
   ],
   "source": [
    "#Classification Task\n",
    "df.head()"
   ]
  },
  {
   "cell_type": "code",
   "execution_count": 187,
   "metadata": {},
   "outputs": [
    {
     "name": "stdout",
     "output_type": "stream",
     "text": [
      "<class 'pandas.core.frame.DataFrame'>\n",
      "RangeIndex: 768 entries, 0 to 767\n",
      "Data columns (total 9 columns):\n",
      " #   Column                    Non-Null Count  Dtype  \n",
      "---  ------                    --------------  -----  \n",
      " 0   Pregnancies               768 non-null    int64  \n",
      " 1   Glucose                   768 non-null    int64  \n",
      " 2   BloodPressure             768 non-null    int64  \n",
      " 3   SkinThickness             768 non-null    int64  \n",
      " 4   Insulin                   768 non-null    int64  \n",
      " 5   BMI                       768 non-null    float64\n",
      " 6   DiabetesPedigreeFunction  768 non-null    float64\n",
      " 7   Age                       768 non-null    int64  \n",
      " 8   Outcome                   768 non-null    int64  \n",
      "dtypes: float64(2), int64(7)\n",
      "memory usage: 54.1 KB\n"
     ]
    }
   ],
   "source": [
    "df.info()"
   ]
  },
  {
   "cell_type": "code",
   "execution_count": 188,
   "metadata": {},
   "outputs": [
    {
     "data": {
      "text/html": [
       "<div>\n",
       "<style scoped>\n",
       "    .dataframe tbody tr th:only-of-type {\n",
       "        vertical-align: middle;\n",
       "    }\n",
       "\n",
       "    .dataframe tbody tr th {\n",
       "        vertical-align: top;\n",
       "    }\n",
       "\n",
       "    .dataframe thead th {\n",
       "        text-align: right;\n",
       "    }\n",
       "</style>\n",
       "<table border=\"1\" class=\"dataframe\">\n",
       "  <thead>\n",
       "    <tr style=\"text-align: right;\">\n",
       "      <th></th>\n",
       "      <th>Pregnancies</th>\n",
       "      <th>Glucose</th>\n",
       "      <th>BloodPressure</th>\n",
       "      <th>SkinThickness</th>\n",
       "      <th>Insulin</th>\n",
       "      <th>BMI</th>\n",
       "      <th>DiabetesPedigreeFunction</th>\n",
       "      <th>Age</th>\n",
       "      <th>Outcome</th>\n",
       "    </tr>\n",
       "  </thead>\n",
       "  <tbody>\n",
       "    <tr>\n",
       "      <th>count</th>\n",
       "      <td>768.000000</td>\n",
       "      <td>768.000000</td>\n",
       "      <td>768.000000</td>\n",
       "      <td>768.000000</td>\n",
       "      <td>768.000000</td>\n",
       "      <td>768.000000</td>\n",
       "      <td>768.000000</td>\n",
       "      <td>768.000000</td>\n",
       "      <td>768.000000</td>\n",
       "    </tr>\n",
       "    <tr>\n",
       "      <th>mean</th>\n",
       "      <td>3.845052</td>\n",
       "      <td>120.894531</td>\n",
       "      <td>69.105469</td>\n",
       "      <td>20.536458</td>\n",
       "      <td>79.799479</td>\n",
       "      <td>31.992578</td>\n",
       "      <td>0.471876</td>\n",
       "      <td>33.240885</td>\n",
       "      <td>0.348958</td>\n",
       "    </tr>\n",
       "    <tr>\n",
       "      <th>std</th>\n",
       "      <td>3.369578</td>\n",
       "      <td>31.972618</td>\n",
       "      <td>19.355807</td>\n",
       "      <td>15.952218</td>\n",
       "      <td>115.244002</td>\n",
       "      <td>7.884160</td>\n",
       "      <td>0.331329</td>\n",
       "      <td>11.760232</td>\n",
       "      <td>0.476951</td>\n",
       "    </tr>\n",
       "    <tr>\n",
       "      <th>min</th>\n",
       "      <td>0.000000</td>\n",
       "      <td>0.000000</td>\n",
       "      <td>0.000000</td>\n",
       "      <td>0.000000</td>\n",
       "      <td>0.000000</td>\n",
       "      <td>0.000000</td>\n",
       "      <td>0.078000</td>\n",
       "      <td>21.000000</td>\n",
       "      <td>0.000000</td>\n",
       "    </tr>\n",
       "    <tr>\n",
       "      <th>25%</th>\n",
       "      <td>1.000000</td>\n",
       "      <td>99.000000</td>\n",
       "      <td>62.000000</td>\n",
       "      <td>0.000000</td>\n",
       "      <td>0.000000</td>\n",
       "      <td>27.300000</td>\n",
       "      <td>0.243750</td>\n",
       "      <td>24.000000</td>\n",
       "      <td>0.000000</td>\n",
       "    </tr>\n",
       "    <tr>\n",
       "      <th>50%</th>\n",
       "      <td>3.000000</td>\n",
       "      <td>117.000000</td>\n",
       "      <td>72.000000</td>\n",
       "      <td>23.000000</td>\n",
       "      <td>30.500000</td>\n",
       "      <td>32.000000</td>\n",
       "      <td>0.372500</td>\n",
       "      <td>29.000000</td>\n",
       "      <td>0.000000</td>\n",
       "    </tr>\n",
       "    <tr>\n",
       "      <th>75%</th>\n",
       "      <td>6.000000</td>\n",
       "      <td>140.250000</td>\n",
       "      <td>80.000000</td>\n",
       "      <td>32.000000</td>\n",
       "      <td>127.250000</td>\n",
       "      <td>36.600000</td>\n",
       "      <td>0.626250</td>\n",
       "      <td>41.000000</td>\n",
       "      <td>1.000000</td>\n",
       "    </tr>\n",
       "    <tr>\n",
       "      <th>max</th>\n",
       "      <td>17.000000</td>\n",
       "      <td>199.000000</td>\n",
       "      <td>122.000000</td>\n",
       "      <td>99.000000</td>\n",
       "      <td>846.000000</td>\n",
       "      <td>67.100000</td>\n",
       "      <td>2.420000</td>\n",
       "      <td>81.000000</td>\n",
       "      <td>1.000000</td>\n",
       "    </tr>\n",
       "  </tbody>\n",
       "</table>\n",
       "</div>"
      ],
      "text/plain": [
       "       Pregnancies     Glucose  BloodPressure  SkinThickness     Insulin  \\\n",
       "count   768.000000  768.000000     768.000000     768.000000  768.000000   \n",
       "mean      3.845052  120.894531      69.105469      20.536458   79.799479   \n",
       "std       3.369578   31.972618      19.355807      15.952218  115.244002   \n",
       "min       0.000000    0.000000       0.000000       0.000000    0.000000   \n",
       "25%       1.000000   99.000000      62.000000       0.000000    0.000000   \n",
       "50%       3.000000  117.000000      72.000000      23.000000   30.500000   \n",
       "75%       6.000000  140.250000      80.000000      32.000000  127.250000   \n",
       "max      17.000000  199.000000     122.000000      99.000000  846.000000   \n",
       "\n",
       "              BMI  DiabetesPedigreeFunction         Age     Outcome  \n",
       "count  768.000000                768.000000  768.000000  768.000000  \n",
       "mean    31.992578                  0.471876   33.240885    0.348958  \n",
       "std      7.884160                  0.331329   11.760232    0.476951  \n",
       "min      0.000000                  0.078000   21.000000    0.000000  \n",
       "25%     27.300000                  0.243750   24.000000    0.000000  \n",
       "50%     32.000000                  0.372500   29.000000    0.000000  \n",
       "75%     36.600000                  0.626250   41.000000    1.000000  \n",
       "max     67.100000                  2.420000   81.000000    1.000000  "
      ]
     },
     "execution_count": 188,
     "metadata": {},
     "output_type": "execute_result"
    }
   ],
   "source": [
    "df.describe()"
   ]
  },
  {
   "cell_type": "code",
   "execution_count": 189,
   "metadata": {},
   "outputs": [],
   "source": [
    "\n",
    "X = df.drop('Outcome', axis = 1)\n",
    "y = df['Outcome']"
   ]
  },
  {
   "cell_type": "code",
   "execution_count": 190,
   "metadata": {},
   "outputs": [],
   "source": [
    "#train test split \n",
    "X_train, X_test, y_train, y_test = train_test_split(X, y, random_state= 42, test_size= 0.25)"
   ]
  },
  {
   "cell_type": "code",
   "execution_count": 191,
   "metadata": {},
   "outputs": [
    {
     "data": {
      "text/plain": [
       "(192, 8)"
      ]
     },
     "execution_count": 191,
     "metadata": {},
     "output_type": "execute_result"
    }
   ],
   "source": [
    "#Standardization\n",
    "X_train_scaled = scaler.fit_transform(X_train)\n",
    "X_test_scaled = scaler.transform(X_test)\n",
    "X_test_scaled.shape\n"
   ]
  },
  {
   "cell_type": "code",
   "execution_count": 192,
   "metadata": {},
   "outputs": [],
   "source": [
    "#Model Training\n",
    "model = LogisticRegression()\n",
    "model.fit(X_train_scaled, y_train)\n",
    "y_pred = model.predict(X_test_scaled)\n"
   ]
  },
  {
   "cell_type": "code",
   "execution_count": 193,
   "metadata": {},
   "outputs": [
    {
     "name": "stdout",
     "output_type": "stream",
     "text": [
      "The accuracy of the model is: 0.7291666666666666\n",
      "precision_score is: 0.6164383561643836\n",
      "Recall score is: 0.6521739130434783\n"
     ]
    }
   ],
   "source": [
    "#Model evaluation\n",
    "print(f\"The accuracy of the model is: {accuracy_score(y_test, y_pred)}\")\n",
    "print(f\"precision_score is: {precision_score(y_test, y_pred)}\")\n",
    "print(f\"Recall score is: {recall_score(y_test, y_pred)}\")"
   ]
  },
  {
   "cell_type": "code",
   "execution_count": 194,
   "metadata": {},
   "outputs": [
    {
     "data": {
      "text/html": [
       "<div>\n",
       "<style scoped>\n",
       "    .dataframe tbody tr th:only-of-type {\n",
       "        vertical-align: middle;\n",
       "    }\n",
       "\n",
       "    .dataframe tbody tr th {\n",
       "        vertical-align: top;\n",
       "    }\n",
       "\n",
       "    .dataframe thead th {\n",
       "        text-align: right;\n",
       "    }\n",
       "</style>\n",
       "<table border=\"1\" class=\"dataframe\">\n",
       "  <thead>\n",
       "    <tr style=\"text-align: right;\">\n",
       "      <th></th>\n",
       "      <th>TP</th>\n",
       "      <th>FN</th>\n",
       "    </tr>\n",
       "  </thead>\n",
       "  <tbody>\n",
       "    <tr>\n",
       "      <th>FP</th>\n",
       "      <td>95</td>\n",
       "      <td>28</td>\n",
       "    </tr>\n",
       "    <tr>\n",
       "      <th>TN</th>\n",
       "      <td>24</td>\n",
       "      <td>45</td>\n",
       "    </tr>\n",
       "  </tbody>\n",
       "</table>\n",
       "</div>"
      ],
      "text/plain": [
       "    TP  FN\n",
       "FP  95  28\n",
       "TN  24  45"
      ]
     },
     "execution_count": 194,
     "metadata": {},
     "output_type": "execute_result"
    }
   ],
   "source": [
    "#Confusion matrix\n",
    "confusion_matrix = confusion_matrix(y_test, y_pred)\n",
    "confusion_matrix_df = pd.DataFrame(confusion_matrix, columns = [\"TP\", \"FN\"], index = [\"FP\", \"TN\"])\n",
    "confusion_matrix_df"
   ]
  },
  {
   "cell_type": "code",
   "execution_count": 195,
   "metadata": {},
   "outputs": [
    {
     "data": {
      "text/plain": [
       "0.7122658183103571"
      ]
     },
     "execution_count": 195,
     "metadata": {},
     "output_type": "execute_result"
    }
   ],
   "source": [
    "#roc-auc curve \n",
    "roc_auc_score(y_test, y_pred)"
   ]
  },
  {
   "cell_type": "code",
   "execution_count": 196,
   "metadata": {},
   "outputs": [
    {
     "data": {
      "image/png": "[encoded data removed]",
      "text/plain": [
       "<Figure size 1000x800 with 2 Axes>"
      ]
     },
     "metadata": {},
     "output_type": "display_data"
    }
   ],
   "source": [
    "#Confusion matrix visualization\n",
    "plt.figure(figsize=(10,8))\n",
    "sns.heatmap(confusion_matrix_df, annot= True, fmt='d')\n",
    "plt.title(\"Confusion Matrix\")\n",
    "plt.show()\n"
   ]
  },
  {
   "cell_type": "code",
   "execution_count": 197,
   "metadata": {},
   "outputs": [
    {
     "data": {
      "text/plain": [
       "array([[0.72565339, 0.27434661],\n",
       "       [0.80959626, 0.19040374],\n",
       "       [0.88860446, 0.11139554],\n",
       "       [0.84784941, 0.15215059],\n",
       "       [0.51955171, 0.48044829],\n",
       "       [0.55129124, 0.44870876],\n",
       "       [0.98522944, 0.01477056],\n",
       "       [0.39071643, 0.60928357],\n",
       "       [0.43874083, 0.56125917],\n",
       "       [0.21813936, 0.78186064],\n",
       "       [0.74392009, 0.25607991],\n",
       "       [0.09202896, 0.90797104],\n",
       "       [0.63368171, 0.36631829],\n",
       "       [0.71749291, 0.28250709],\n",
       "       [0.92517398, 0.07482602],\n",
       "       [0.62877295, 0.37122705],\n",
       "       [0.86585218, 0.13414782],\n",
       "       [0.92726533, 0.07273467],\n",
       "       [0.14051786, 0.85948214],\n",
       "       [0.43453975, 0.56546025],\n",
       "       [0.79376039, 0.20623961],\n",
       "       [0.92245889, 0.07754111],\n",
       "       [0.46350797, 0.53649203],\n",
       "       [0.90617837, 0.09382163],\n",
       "       [0.45273051, 0.54726949],\n",
       "       [0.10688396, 0.89311604],\n",
       "       [0.87684878, 0.12315122],\n",
       "       [0.96856359, 0.03143641],\n",
       "       [0.7410881 , 0.2589119 ],\n",
       "       [0.88780455, 0.11219545],\n",
       "       [0.08784458, 0.91215542],\n",
       "       [0.13157342, 0.86842658],\n",
       "       [0.2048364 , 0.7951636 ],\n",
       "       [0.18458521, 0.81541479],\n",
       "       [0.40377779, 0.59622221],\n",
       "       [0.31338764, 0.68661236],\n",
       "       [0.02805324, 0.97194676],\n",
       "       [0.76250481, 0.23749519],\n",
       "       [0.48725331, 0.51274669],\n",
       "       [0.29585332, 0.70414668],\n",
       "       [0.93296655, 0.06703345],\n",
       "       [0.41905263, 0.58094737],\n",
       "       [0.42693085, 0.57306915],\n",
       "       [0.69237859, 0.30762141],\n",
       "       [0.97195748, 0.02804252],\n",
       "       [0.47890813, 0.52109187],\n",
       "       [0.37503201, 0.62496799],\n",
       "       [0.78348103, 0.21651897],\n",
       "       [0.65821399, 0.34178601],\n",
       "       [0.04214517, 0.95785483],\n",
       "       [0.95162569, 0.04837431],\n",
       "       [0.32684958, 0.67315042],\n",
       "       [0.17434062, 0.82565938],\n",
       "       [0.76011934, 0.23988066],\n",
       "       [0.89703196, 0.10296804],\n",
       "       [0.95988341, 0.04011659],\n",
       "       [0.21563491, 0.78436509],\n",
       "       [0.99481194, 0.00518806],\n",
       "       [0.60415111, 0.39584889],\n",
       "       [0.2375016 , 0.7624984 ],\n",
       "       [0.25347907, 0.74652093],\n",
       "       [0.65126215, 0.34873785],\n",
       "       [0.78677198, 0.21322802],\n",
       "       [0.80668205, 0.19331795],\n",
       "       [0.92152883, 0.07847117],\n",
       "       [0.36057296, 0.63942704],\n",
       "       [0.95156781, 0.04843219],\n",
       "       [0.26389119, 0.73610881],\n",
       "       [0.96384507, 0.03615493],\n",
       "       [0.24705108, 0.75294892],\n",
       "       [0.30682304, 0.69317696],\n",
       "       [0.93104291, 0.06895709],\n",
       "       [0.82494562, 0.17505438],\n",
       "       [0.88503086, 0.11496914],\n",
       "       [0.91182075, 0.08817925],\n",
       "       [0.47123049, 0.52876951],\n",
       "       [0.84070911, 0.15929089],\n",
       "       [0.87031493, 0.12968507],\n",
       "       [0.86351627, 0.13648373],\n",
       "       [0.76687448, 0.23312552],\n",
       "       [0.34604064, 0.65395936],\n",
       "       [0.85577842, 0.14422158],\n",
       "       [0.94111802, 0.05888198],\n",
       "       [0.59853618, 0.40146382],\n",
       "       [0.75011316, 0.24988684],\n",
       "       [0.1494155 , 0.8505845 ],\n",
       "       [0.09574787, 0.90425213],\n",
       "       [0.69762791, 0.30237209],\n",
       "       [0.87664359, 0.12335641],\n",
       "       [0.91752381, 0.08247619],\n",
       "       [0.93648185, 0.06351815],\n",
       "       [0.77465116, 0.22534884],\n",
       "       [0.9961856 , 0.0038144 ],\n",
       "       [0.48615177, 0.51384823],\n",
       "       [0.49101203, 0.50898797],\n",
       "       [0.34934993, 0.65065007],\n",
       "       [0.65399597, 0.34600403],\n",
       "       [0.88054872, 0.11945128],\n",
       "       [0.36871836, 0.63128164],\n",
       "       [0.92523208, 0.07476792],\n",
       "       [0.25360589, 0.74639411],\n",
       "       [0.93890558, 0.06109442],\n",
       "       [0.2363009 , 0.7636991 ],\n",
       "       [0.47413372, 0.52586628],\n",
       "       [0.36627088, 0.63372912],\n",
       "       [0.76750518, 0.23249482],\n",
       "       [0.7384754 , 0.2615246 ],\n",
       "       [0.25298528, 0.74701472],\n",
       "       [0.88617876, 0.11382124],\n",
       "       [0.49343502, 0.50656498],\n",
       "       [0.90657624, 0.09342376],\n",
       "       [0.6619977 , 0.3380023 ],\n",
       "       [0.98183464, 0.01816536],\n",
       "       [0.22797827, 0.77202173],\n",
       "       [0.8219687 , 0.1780313 ],\n",
       "       [0.67012645, 0.32987355],\n",
       "       [0.2320805 , 0.7679195 ],\n",
       "       [0.79258739, 0.20741261],\n",
       "       [0.94143426, 0.05856574],\n",
       "       [0.45785939, 0.54214061],\n",
       "       [0.94293309, 0.05706691],\n",
       "       [0.71336843, 0.28663157],\n",
       "       [0.75622533, 0.24377467],\n",
       "       [0.93180673, 0.06819327],\n",
       "       [0.7301293 , 0.2698707 ],\n",
       "       [0.56324769, 0.43675231],\n",
       "       [0.9627554 , 0.0372446 ],\n",
       "       [0.13491421, 0.86508579],\n",
       "       [0.03669731, 0.96330269],\n",
       "       [0.24799815, 0.75200185],\n",
       "       [0.29825379, 0.70174621],\n",
       "       [0.14488802, 0.85511198],\n",
       "       [0.91901763, 0.08098237],\n",
       "       [0.55915017, 0.44084983],\n",
       "       [0.17900268, 0.82099732],\n",
       "       [0.88943826, 0.11056174],\n",
       "       [0.84611017, 0.15388983],\n",
       "       [0.14064015, 0.85935985],\n",
       "       [0.19461372, 0.80538628],\n",
       "       [0.98752012, 0.01247988],\n",
       "       [0.9052149 , 0.0947851 ],\n",
       "       [0.96175031, 0.03824969],\n",
       "       [0.79128301, 0.20871699],\n",
       "       [0.59352168, 0.40647832],\n",
       "       [0.88359448, 0.11640552],\n",
       "       [0.72521646, 0.27478354],\n",
       "       [0.87635203, 0.12364797],\n",
       "       [0.97999073, 0.02000927],\n",
       "       [0.56896578, 0.43103422],\n",
       "       [0.24067692, 0.75932308],\n",
       "       [0.89769693, 0.10230307],\n",
       "       [0.53847676, 0.46152324],\n",
       "       [0.74487271, 0.25512729],\n",
       "       [0.81491918, 0.18508082],\n",
       "       [0.9942217 , 0.0057783 ],\n",
       "       [0.55682842, 0.44317158],\n",
       "       [0.68788071, 0.31211929],\n",
       "       [0.34440407, 0.65559593],\n",
       "       [0.26661557, 0.73338443],\n",
       "       [0.86149444, 0.13850556],\n",
       "       [0.4943191 , 0.5056809 ],\n",
       "       [0.34027328, 0.65972672],\n",
       "       [0.80917847, 0.19082153],\n",
       "       [0.98420726, 0.01579274],\n",
       "       [0.87299583, 0.12700417],\n",
       "       [0.14239084, 0.85760916],\n",
       "       [0.9528274 , 0.0471726 ],\n",
       "       [0.70094305, 0.29905695],\n",
       "       [0.21428312, 0.78571688],\n",
       "       [0.46911682, 0.53088318],\n",
       "       [0.38562243, 0.61437757],\n",
       "       [0.83199054, 0.16800946],\n",
       "       [0.67348587, 0.32651413],\n",
       "       [0.28509622, 0.71490378],\n",
       "       [0.39932952, 0.60067048],\n",
       "       [0.91776979, 0.08223021],\n",
       "       [0.7137017 , 0.2862983 ],\n",
       "       [0.72744299, 0.27255701],\n",
       "       [0.78662882, 0.21337118],\n",
       "       [0.70910754, 0.29089246],\n",
       "       [0.46723017, 0.53276983],\n",
       "       [0.43875731, 0.56124269],\n",
       "       [0.63349062, 0.36650938],\n",
       "       [0.22766211, 0.77233789],\n",
       "       [0.37544695, 0.62455305],\n",
       "       [0.90832445, 0.09167555],\n",
       "       [0.958611  , 0.041389  ],\n",
       "       [0.88351328, 0.11648672],\n",
       "       [0.15366965, 0.84633035],\n",
       "       [0.62058671, 0.37941329],\n",
       "       [0.93363516, 0.06636484],\n",
       "       [0.91927572, 0.08072428]])"
      ]
     },
     "execution_count": 197,
     "metadata": {},
     "output_type": "execute_result"
    }
   ],
   "source": [
    "probabilities = model.predict_proba(X_test_scaled)\n",
    "probabilities"
   ]
  },
  {
   "cell_type": "code",
   "execution_count": null,
   "metadata": {},
   "outputs": [],
   "source": []
  }
 ],
 "metadata": {
  "kernelspec": {
   "display_name": "Python 3",
   "language": "python",
   "name": "python3"
  },
  "language_info": {
   "codemirror_mode": {
    "name": "ipython",
    "version": 3
   },
   "file_extension": ".py",
   "mimetype": "text/x-python",
   "name": "python",
   "nbconvert_exporter": "python",
   "pygments_lexer": "ipython3",
   "version": "3.12.4"
  }
 },
 "nbformat": 4,
 "nbformat_minor": 2
}
