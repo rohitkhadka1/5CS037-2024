{
 "cells": [
  {
   "cell_type": "code",
   "execution_count": 1,
   "metadata": {
    "id": "fiF9HC7pTWzv"
   },
   "outputs": [],
   "source": [
    "#Import necessary modules and libraries\n",
    "import numpy as np\n",
    "import random"
   ]
  },
  {
   "cell_type": "code",
   "execution_count": 2,
   "metadata": {
    "colab": {
     "base_uri": "https://localhost:8080/"
    },
    "id": "EPmZPdbNUcRO",
    "outputId": "100acf6d-d045-4411-f8b6-a72722d55535"
   },
   "outputs": [
    {
     "name": "stdout",
     "output_type": "stream",
     "text": [
      "[[0.00000000e+000 1.07552139e-311]\n",
      " [1.07552139e-311 1.07552139e-311]]\n"
     ]
    }
   ],
   "source": [
    "#Exercise 4.1\n",
    "#Problem 1\n",
    "#1)\n",
    "empty_array = np.empty((2,2))\n",
    "print(empty_array)"
   ]
  },
  {
   "cell_type": "code",
   "execution_count": 3,
   "metadata": {
    "colab": {
     "base_uri": "https://localhost:8080/"
    },
    "id": "U_S2iTPkUlOp",
    "outputId": "ac8a05ea-afab-472e-c0cf-3dc400b4e384"
   },
   "outputs": [
    {
     "name": "stdout",
     "output_type": "stream",
     "text": [
      "[[1. 1.]\n",
      " [1. 1.]\n",
      " [1. 1.]\n",
      " [1. 1.]]\n"
     ]
    }
   ],
   "source": [
    "#2)\n",
    "ones_array = np.ones((4,2))\n",
    "print(ones_array)"
   ]
  },
  {
   "cell_type": "code",
   "execution_count": 4,
   "metadata": {
    "colab": {
     "base_uri": "https://localhost:8080/"
    },
    "id": "107AqumPU0ha",
    "outputId": "43121456-2da5-4c4e-8a69-cd6ec8983d24"
   },
   "outputs": [
    {
     "name": "stdout",
     "output_type": "stream",
     "text": [
      "[[4. 4.]\n",
      " [4. 4.]\n",
      " [4. 4.]\n",
      " [4. 4.]]\n"
     ]
    }
   ],
   "source": [
    "#3)\n",
    "ones_array.fill(4)\n",
    "print(ones_array)"
   ]
  },
  {
   "cell_type": "code",
   "execution_count": 5,
   "metadata": {
    "colab": {
     "base_uri": "https://localhost:8080/"
    },
    "id": "qbfM0Zf6VVs-",
    "outputId": "f752c7b2-1b97-48a3-90d0-bcd7d2f56541"
   },
   "outputs": [
    {
     "data": {
      "text/plain": [
       "array([[0., 0.],\n",
       "       [0., 0.],\n",
       "       [0., 0.],\n",
       "       [0., 0.]])"
      ]
     },
     "execution_count": 5,
     "metadata": {},
     "output_type": "execute_result"
    }
   ],
   "source": [
    "#4)\n",
    "zeros_like = np.zeros_like(ones_array)\n",
    "zeros_like"
   ]
  },
  {
   "cell_type": "code",
   "execution_count": 6,
   "metadata": {
    "colab": {
     "base_uri": "https://localhost:8080/"
    },
    "id": "zz9c2awWWSgP",
    "outputId": "6185928d-5a55-4957-e4ab-0ec2dc31e1c5"
   },
   "outputs": [
    {
     "name": "stdout",
     "output_type": "stream",
     "text": [
      "[[1 2 3]\n",
      " [4 5 6]\n",
      " [7 8 9]]\n",
      "[[1 1 1]\n",
      " [1 1 1]\n",
      " [1 1 1]]\n"
     ]
    }
   ],
   "source": [
    "#5)\n",
    "a = np.arange(1,10)\n",
    "b = a.reshape(3,3)\n",
    "print(b)\n",
    "ones_like = np.ones_like(b)\n",
    "print(ones_like)"
   ]
  },
  {
   "cell_type": "code",
   "execution_count": 7,
   "metadata": {
    "colab": {
     "base_uri": "https://localhost:8080/"
    },
    "id": "85x094xQXK8m",
    "outputId": "c77ae329-5e1c-4edb-9cc6-56a2d06a00c0"
   },
   "outputs": [
    {
     "name": "stdout",
     "output_type": "stream",
     "text": [
      "[1, 2, 3, 4]\n"
     ]
    },
    {
     "data": {
      "text/plain": [
       "array([1, 2, 3, 4])"
      ]
     },
     "execution_count": 7,
     "metadata": {},
     "output_type": "execute_result"
    }
   ],
   "source": [
    "#6)\n",
    "new_list = [1,2,3,4]\n",
    "print(new_list)\n",
    "new_array = np.array(new_list)\n",
    "new_array"
   ]
  },
  {
   "cell_type": "code",
   "execution_count": 8,
   "metadata": {
    "colab": {
     "base_uri": "https://localhost:8080/"
    },
    "id": "_pQetvfmXWTc",
    "outputId": "25c1ec6a-b041-45aa-86f9-e544c00d2a03"
   },
   "outputs": [
    {
     "data": {
      "text/plain": [
       "array([10, 11, 12, 13, 14, 15, 16, 17, 18, 19, 20, 21, 22, 23, 24, 25, 26,\n",
       "       27, 28, 29, 30, 31, 32, 33, 34, 35, 36, 37, 38, 39, 40, 41, 42, 43,\n",
       "       44, 45, 46, 47, 48])"
      ]
     },
     "execution_count": 8,
     "metadata": {},
     "output_type": "execute_result"
    }
   ],
   "source": [
    "#Problem 2\n",
    "#1)\n",
    "array_range = np.arange(10, 49)\n",
    "array_range"
   ]
  },
  {
   "cell_type": "code",
   "execution_count": 9,
   "metadata": {
    "colab": {
     "base_uri": "https://localhost:8080/"
    },
    "id": "LMh24Y8BXqML",
    "outputId": "e3bf1d82-59ff-41b6-ff4a-7b37d1d6d34e"
   },
   "outputs": [
    {
     "data": {
      "text/plain": [
       "array([[0., 1., 2.],\n",
       "       [3., 4., 5.],\n",
       "       [6., 7., 8.]])"
      ]
     },
     "execution_count": 9,
     "metadata": {},
     "output_type": "execute_result"
    }
   ],
   "source": [
    "#2)\n",
    "array_linspace = np.linspace(0,8, endpoint = True, num = 9)\n",
    "array_linspace.reshape(3,3)"
   ]
  },
  {
   "cell_type": "code",
   "execution_count": 10,
   "metadata": {
    "colab": {
     "base_uri": "https://localhost:8080/"
    },
    "id": "rFpLDVMwX_BD",
    "outputId": "b4c63716-be39-4533-edd5-cdf5bbe7a5f6"
   },
   "outputs": [
    {
     "data": {
      "text/plain": [
       "array([[1., 0., 0.],\n",
       "       [0., 1., 0.],\n",
       "       [0., 0., 1.]])"
      ]
     },
     "execution_count": 10,
     "metadata": {},
     "output_type": "execute_result"
    }
   ],
   "source": [
    "#3)\n",
    "identity_matrix = np.eye(3)\n",
    "identity_matrix"
   ]
  },
  {
   "cell_type": "code",
   "execution_count": 11,
   "metadata": {
    "colab": {
     "base_uri": "https://localhost:8080/"
    },
    "id": "CYB36Z89YGcu",
    "outputId": "3a5fce2a-aa91-4bfd-9fff-8d9d2397b935"
   },
   "outputs": [
    {
     "data": {
      "text/plain": [
       "np.float64(15.766666666666667)"
      ]
     },
     "execution_count": 11,
     "metadata": {},
     "output_type": "execute_result"
    }
   ],
   "source": [
    "#4)\n",
    "random_array = np.random.randint(0,30, size = 30)\n",
    "random_array\n",
    "array_mean = np.mean(random_array)\n",
    "array_mean"
   ]
  },
  {
   "cell_type": "code",
   "execution_count": 12,
   "metadata": {
    "colab": {
     "base_uri": "https://localhost:8080/"
    },
    "id": "BpBLsihEZnIB",
    "outputId": "3607fe29-0c5f-4c96-8871-8693bc5e09fa"
   },
   "outputs": [
    {
     "name": "stdout",
     "output_type": "stream",
     "text": [
      "The maximum value is:  49\n",
      "The minimum value is:  0\n"
     ]
    }
   ],
   "source": [
    "#5)\n",
    "random_array_1 = np.random.randint(0, 50, size = (10,10))\n",
    "random_array_1\n",
    "print(\"The maximum value is: \", np.max(random_array_1))\n",
    "print(\"The minimum value is: \", np.min(random_array_1))"
   ]
  },
  {
   "cell_type": "code",
   "execution_count": 13,
   "metadata": {
    "colab": {
     "base_uri": "https://localhost:8080/"
    },
    "id": "JiJIsVzWaRpX",
    "outputId": "09cc8e26-9da0-41cc-8597-163c743142d3"
   },
   "outputs": [
    {
     "data": {
      "text/plain": [
       "array([0., 0., 0., 0., 1.])"
      ]
     },
     "execution_count": 13,
     "metadata": {},
     "output_type": "execute_result"
    }
   ],
   "source": [
    "#6)\n",
    "zero_array = np.zeros(5)\n",
    "zero_array\n",
    "zero_array[4] = 1\n",
    "zero_array"
   ]
  },
  {
   "cell_type": "code",
   "execution_count": 14,
   "metadata": {
    "colab": {
     "base_uri": "https://localhost:8080/"
    },
    "id": "mejM5rKOamjm",
    "outputId": "0b0fcf51-e5c1-42a3-883f-004739c3cd91"
   },
   "outputs": [
    {
     "data": {
      "text/plain": [
       "array([0, 4, 0, 0, 2, 1])"
      ]
     },
     "execution_count": 14,
     "metadata": {},
     "output_type": "execute_result"
    }
   ],
   "source": [
    "#7\n",
    "arr = [1,2,0,0,4,0]\n",
    "arr1 = np.array(arr)\n",
    "reversed = np.flip(arr1)\n",
    "reversed"
   ]
  },
  {
   "cell_type": "code",
   "execution_count": 15,
   "metadata": {
    "colab": {
     "base_uri": "https://localhost:8080/"
    },
    "id": "a9-L41r3bTEH",
    "outputId": "a9ef7707-2795-456b-cad5-db15785ed7a5"
   },
   "outputs": [
    {
     "data": {
      "text/plain": [
       "array([[1, 0, 1],\n",
       "       [1, 0, 1]])"
      ]
     },
     "execution_count": 15,
     "metadata": {},
     "output_type": "execute_result"
    }
   ],
   "source": [
    "#8)\n",
    "two_d_array = np.array([[2,3,4], [2,3,4]])\n",
    "two_d_array[0:2, 0:3:2] = 1\n",
    "two_d_array[0:2, 1:3:2] = 0\n",
    "two_d_array"
   ]
  },
  {
   "cell_type": "code",
   "execution_count": 16,
   "metadata": {
    "colab": {
     "base_uri": "https://localhost:8080/"
    },
    "id": "H8OG0ro1c0xW",
    "outputId": "43f9bbb8-654a-48b2-9f0e-fe57a5a53807"
   },
   "outputs": [
    {
     "data": {
      "text/plain": [
       "array([[1., 0., 1., 0., 1., 0., 1., 0.],\n",
       "       [0., 1., 0., 1., 0., 1., 0., 1.],\n",
       "       [1., 0., 1., 0., 1., 0., 1., 0.],\n",
       "       [0., 1., 0., 1., 0., 1., 0., 1.],\n",
       "       [1., 0., 1., 0., 1., 0., 1., 0.],\n",
       "       [0., 1., 0., 1., 0., 1., 0., 1.],\n",
       "       [1., 0., 1., 0., 1., 0., 1., 0.],\n",
       "       [0., 1., 0., 1., 0., 1., 0., 1.]])"
      ]
     },
     "execution_count": 16,
     "metadata": {},
     "output_type": "execute_result"
    }
   ],
   "source": [
    "#9)\n",
    "eight_d_array = np.zeros((8,8))\n",
    "\n",
    "eight_d_array[::2, ::2] = 1\n",
    "eight_d_array[1::2, 1::2] = 1\n",
    "eight_d_array\n"
   ]
  },
  {
   "cell_type": "code",
   "execution_count": 17,
   "metadata": {
    "colab": {
     "base_uri": "https://localhost:8080/"
    },
    "id": "ahHYS30kek-M",
    "outputId": "6c93a9b5-9ca4-4061-ace5-c6cb58ad800a"
   },
   "outputs": [
    {
     "name": "stdout",
     "output_type": "stream",
     "text": [
      "[[ 6  8]\n",
      " [10 13]] [20 22]\n"
     ]
    }
   ],
   "source": [
    "#Problem 3\n",
    "x = np.array([[1,2],[3,5]])\n",
    "y = np.array([[5,6],[7,8]])\n",
    "v = np.array([9,10])\n",
    "w = np.array([11,12]);\n",
    "#1)\n",
    "print(x+y, v+w)"
   ]
  },
  {
   "cell_type": "code",
   "execution_count": 18,
   "metadata": {
    "colab": {
     "base_uri": "https://localhost:8080/"
    },
    "id": "_k2LPSsCLFLM",
    "outputId": "56592d0a-5600-4589-fe9a-83268f4049d0"
   },
   "outputs": [
    {
     "name": "stdout",
     "output_type": "stream",
     "text": [
      "[[-4 -4]\n",
      " [-4 -3]] [-2 -2]\n"
     ]
    }
   ],
   "source": [
    "#2)\n",
    "print(x-y, v-w)"
   ]
  },
  {
   "cell_type": "code",
   "execution_count": 19,
   "metadata": {
    "colab": {
     "base_uri": "https://localhost:8080/"
    },
    "id": "SC5hREIcLYf7",
    "outputId": "5771de70-56d1-4ef5-fe4d-e37676c35ea4"
   },
   "outputs": [
    {
     "name": "stdout",
     "output_type": "stream",
     "text": [
      "[[ 3  6]\n",
      " [ 9 15]] [36 40]\n"
     ]
    }
   ],
   "source": [
    "#3)\n",
    "print(x*3, v*4)"
   ]
  },
  {
   "cell_type": "code",
   "execution_count": 20,
   "metadata": {
    "colab": {
     "base_uri": "https://localhost:8080/"
    },
    "id": "m8C0wAGkLcW3",
    "outputId": "27b75845-abb3-4ee6-8b2d-f2ce3a02c2da"
   },
   "outputs": [
    {
     "name": "stdout",
     "output_type": "stream",
     "text": [
      "[[ 1  4]\n",
      " [ 9 25]] [ 81 100]\n"
     ]
    }
   ],
   "source": [
    "#4)\n",
    "print(x ** 2, v ** 2)"
   ]
  },
  {
   "cell_type": "code",
   "execution_count": 21,
   "metadata": {
    "colab": {
     "base_uri": "https://localhost:8080/"
    },
    "id": "mswnAYRnLohg",
    "outputId": "4a7e22ae-8878-41f3-873d-140f6d1a32cc"
   },
   "outputs": [
    {
     "name": "stdout",
     "output_type": "stream",
     "text": [
      "The dot product of x and y is: \n",
      "\n",
      "[[19 22]\n",
      " [50 58]]\n",
      "The dot product of x and v is: \n",
      "\n",
      "[29 77]\n",
      "The dot product of v and w is: \n",
      "\n",
      "219\n"
     ]
    }
   ],
   "source": [
    "#5)\n",
    "print(\"The dot product of x and y is: \",np.dot(x,y), sep = '\\n\\n')\n",
    "print(\"The dot product of x and v is: \",np.dot(x,v), sep = '\\n\\n')\n",
    "print(\"The dot product of v and w is: \",np.dot(v,w), sep = '\\n\\n')"
   ]
  },
  {
   "cell_type": "code",
   "execution_count": 22,
   "metadata": {
    "colab": {
     "base_uri": "https://localhost:8080/"
    },
    "id": "RALpMxBdMBsz",
    "outputId": "9094a9d3-f407-4084-b24c-f3480c777435"
   },
   "outputs": [
    {
     "name": "stdout",
     "output_type": "stream",
     "text": [
      "The concatenation along row axis:  [[1 2]\n",
      " [3 5]\n",
      " [5 6]\n",
      " [7 8]]\n",
      "The concatenation along column axis:  [[1 2 5 6]\n",
      " [3 5 7 8]]\n"
     ]
    }
   ],
   "source": [
    "#6)\n",
    "#Concatenation of matrices\n",
    "print(\"The concatenation along row axis: \", np.concatenate((x,y), axis = 0))\n",
    "print(\"The concatenation along column axis: \",np.concatenate((x,y), axis = 1))"
   ]
  },
  {
   "cell_type": "code",
   "execution_count": 23,
   "metadata": {
    "colab": {
     "base_uri": "https://localhost:8080/",
     "height": 176
    },
    "id": "MFrUgX6-n4xn",
    "outputId": "22b730d0-5bf1-44ca-a9b2-826e3709cd3f"
   },
   "outputs": [
    {
     "ename": "ValueError",
     "evalue": "all the input arrays must have same number of dimensions, but the array at index 0 has 2 dimension(s) and the array at index 1 has 1 dimension(s)",
     "output_type": "error",
     "traceback": [
      "\u001b[1;31m---------------------------------------------------------------------------\u001b[0m",
      "\u001b[1;31mValueError\u001b[0m                                Traceback (most recent call last)",
      "Cell \u001b[1;32mIn[23], line 2\u001b[0m\n\u001b[0;32m      1\u001b[0m \u001b[38;5;66;03m#7)\u001b[39;00m\n\u001b[1;32m----> 2\u001b[0m \u001b[43mnp\u001b[49m\u001b[38;5;241;43m.\u001b[39;49m\u001b[43mconcatenate\u001b[49m\u001b[43m(\u001b[49m\u001b[43m(\u001b[49m\u001b[43mx\u001b[49m\u001b[43m,\u001b[49m\u001b[43mv\u001b[49m\u001b[43m)\u001b[49m\u001b[43m,\u001b[49m\u001b[43m \u001b[49m\u001b[43maxis\u001b[49m\u001b[43m \u001b[49m\u001b[38;5;241;43m=\u001b[39;49m\u001b[43m \u001b[49m\u001b[38;5;241;43m1\u001b[39;49m\u001b[43m)\u001b[49m\n",
      "\u001b[1;31mValueError\u001b[0m: all the input arrays must have same number of dimensions, but the array at index 0 has 2 dimension(s) and the array at index 1 has 1 dimension(s)"
     ]
    }
   ],
   "source": [
    "#7)\n",
    "np.concatenate((x,v), axis = 1)"
   ]
  },
  {
   "cell_type": "code",
   "execution_count": null,
   "metadata": {
    "colab": {
     "base_uri": "https://localhost:8080/",
     "height": 176
    },
    "id": "Aqxa2EndoG6V",
    "outputId": "9499f68b-5e45-4033-dc2e-4abe9d9f161e"
   },
   "outputs": [
    {
     "ename": "ValueError",
     "evalue": "all the input arrays must have same number of dimensions, but the array at index 0 has 2 dimension(s) and the array at index 1 has 1 dimension(s)",
     "output_type": "error",
     "traceback": [
      "\u001b[0;31m---------------------------------------------------------------------------\u001b[0m",
      "\u001b[0;31mValueError\u001b[0m                                Traceback (most recent call last)",
      "\u001b[0;32m<ipython-input-27-f0df623c2c6b>\u001b[0m in \u001b[0;36m<cell line: 2>\u001b[0;34m()\u001b[0m\n\u001b[1;32m      1\u001b[0m \u001b[0;31m#7)\u001b[0m\u001b[0;34m\u001b[0m\u001b[0;34m\u001b[0m\u001b[0m\n\u001b[0;32m----> 2\u001b[0;31m \u001b[0mnp\u001b[0m\u001b[0;34m.\u001b[0m\u001b[0mconcatenate\u001b[0m\u001b[0;34m(\u001b[0m\u001b[0;34m(\u001b[0m\u001b[0mx\u001b[0m\u001b[0;34m,\u001b[0m\u001b[0mv\u001b[0m\u001b[0;34m)\u001b[0m\u001b[0;34m,\u001b[0m \u001b[0maxis\u001b[0m \u001b[0;34m=\u001b[0m \u001b[0;36m0\u001b[0m\u001b[0;34m)\u001b[0m\u001b[0;34m\u001b[0m\u001b[0;34m\u001b[0m\u001b[0m\n\u001b[0m",
      "\u001b[0;31mValueError\u001b[0m: all the input arrays must have same number of dimensions, but the array at index 0 has 2 dimension(s) and the array at index 1 has 1 dimension(s)"
     ]
    }
   ],
   "source": [
    "#7)\n",
    "np.concatenate((x,v), axis = 0)"
   ]
  },
  {
   "cell_type": "code",
   "execution_count": 24,
   "metadata": {
    "colab": {
     "base_uri": "https://localhost:8080/",
     "height": 35
    },
    "id": "JWARNks7oUqg",
    "outputId": "6668d6ad-57da-4f74-ce4b-00005d47269b"
   },
   "outputs": [
    {
     "data": {
      "text/plain": [
       "'\\nWe got error while performing concatenation along row and column as the matrices need to be of same shape in order to perform concatenation.\\n'"
      ]
     },
     "execution_count": 24,
     "metadata": {},
     "output_type": "execute_result"
    }
   ],
   "source": [
    "\"\"\"\n",
    "We got error while performing concatenation along row and column as the matrices need to be of same shape in order to perform concatenation.\n",
    "\"\"\""
   ]
  },
  {
   "cell_type": "code",
   "execution_count": 30,
   "metadata": {
    "id": "90kemKJapHb3"
   },
   "outputs": [],
   "source": [
    "#Problem 4\n",
    "A = np.array([[3,4],[7,8]])\n",
    "B = np.array([[5,3],[2,1]])"
   ]
  },
  {
   "cell_type": "code",
   "execution_count": 32,
   "metadata": {},
   "outputs": [],
   "source": [
    "#Problem 4\n",
    "A = np.array([[3,4],[7,8]])\n",
    "B = np.array([[5,3],[2,1]])"
   ]
  },
  {
   "cell_type": "code",
   "execution_count": 33,
   "metadata": {
    "colab": {
     "base_uri": "https://localhost:8080/"
    },
    "id": "_OFA9ErSpZli",
    "outputId": "7b1cf6ea-b0cb-4acc-9d52-6da3cd5ff652"
   },
   "outputs": [
    {
     "data": {
      "text/plain": [
       "array([[1.00000000e+00, 0.00000000e+00],\n",
       "       [1.77635684e-15, 1.00000000e+00]])"
      ]
     },
     "execution_count": 33,
     "metadata": {},
     "output_type": "execute_result"
    }
   ],
   "source": [
    "#A.A−1 = I\n",
    "np.matmul(A, np.linalg.inv(A))"
   ]
  },
  {
   "cell_type": "code",
   "execution_count": 34,
   "metadata": {
    "colab": {
     "base_uri": "https://localhost:8080/"
    },
    "id": "1zcFZ6kbpjLn",
    "outputId": "8e40e2c2-57b2-4572-ae22-9e2b5c1ee013"
   },
   "outputs": [
    {
     "data": {
      "text/plain": [
       "array([[1.00000000e+00, 0.00000000e+00],\n",
       "       [1.77635684e-15, 1.00000000e+00]])"
      ]
     },
     "execution_count": 34,
     "metadata": {},
     "output_type": "execute_result"
    }
   ],
   "source": [
    "A @ np.linalg.inv(A)"
   ]
  },
  {
   "cell_type": "code",
   "execution_count": 35,
   "metadata": {
    "colab": {
     "base_uri": "https://localhost:8080/"
    },
    "id": "-LYY6yNopxy7",
    "outputId": "586bd2c0-0b3a-4244-b13a-1e2774fef3b5"
   },
   "outputs": [
    {
     "data": {
      "text/plain": [
       "array([[False, False],\n",
       "       [False, False]])"
      ]
     },
     "execution_count": 35,
     "metadata": {},
     "output_type": "execute_result"
    }
   ],
   "source": [
    "#AB ̸= BA\n",
    "AB = A @ B\n",
    "BA = B @ A\n",
    "AB == BA"
   ]
  },
  {
   "cell_type": "code",
   "execution_count": 36,
   "metadata": {
    "colab": {
     "base_uri": "https://localhost:8080/"
    },
    "id": "AxD09YPCp3SH",
    "outputId": "fc9bb48b-76ad-4943-dde2-7e070daf57aa"
   },
   "outputs": [
    {
     "data": {
      "text/plain": [
       "array([[ True,  True],\n",
       "       [ True,  True]])"
      ]
     },
     "execution_count": 36,
     "metadata": {},
     "output_type": "execute_result"
    }
   ],
   "source": [
    "# (AB)T = BTAT\n",
    "AB_T = np.transpose(AB)\n",
    "BA_T = np.transpose(B) @ np.transpose(A)\n",
    "AB_T == BA_T"
   ]
  },
  {
   "cell_type": "code",
   "execution_count": 44,
   "metadata": {
    "colab": {
     "base_uri": "https://localhost:8080/"
    },
    "id": "ozZXVJkxqGg_",
    "outputId": "891a6526-4e12-423c-9def-f14e400da845"
   },
   "outputs": [
    {
     "data": {
      "text/plain": [
       "array([ 2.,  1., -2.])"
      ]
     },
     "execution_count": 44,
     "metadata": {},
     "output_type": "execute_result"
    }
   ],
   "source": [
    "A = np.array([[2, -3, 1], [1, -1, 2], [3, 1, -1]])\n",
    "B = np.array([-1, -3, 9])\n",
    "X = np.linalg.solve(A,B)\n",
    "X"
   ]
  },
  {
   "cell_type": "code",
   "execution_count": 45,
   "metadata": {
    "colab": {
     "base_uri": "https://localhost:8080/"
    },
    "id": "03zYb1Cmq-W7",
    "outputId": "6f9c0fb7-c934-49e5-9f8a-2736f562b745"
   },
   "outputs": [
    {
     "data": {
      "text/plain": [
       "array([ 2.,  1., -2.])"
      ]
     },
     "execution_count": 45,
     "metadata": {},
     "output_type": "execute_result"
    }
   ],
   "source": [
    "#Using Inverse Method\n",
    "A_inv = np.linalg.inv(A)\n",
    "X = A_inv @ B\n",
    "X"
   ]
  },
  {
   "cell_type": "code",
   "execution_count": null,
   "metadata": {
    "colab": {
     "base_uri": "https://localhost:8080/"
    },
    "id": "Iv1KI93CrTGn",
    "outputId": "074bdacb-81ab-4268-a6b7-90db986ad8da"
   },
   "outputs": [
    {
     "name": "stdout",
     "output_type": "stream",
     "text": [
      "The time taken to python is: 107.644328\n",
      "The time taken to numpy is: 7.497885\n"
     ]
    }
   ],
   "source": [
    "#4.2 Experiment: How Fast is Numpy?\n",
    "#random.seed(0)\n",
    "#Element-wise Addition\n",
    "from timeit import timeit\n",
    "A = [random.randint(0, 100) for _ in range(1000000)]\n",
    "B  = [random.randint(0, 100) for _ in range(1000000)]\n",
    "Aa = np.array(A)\n",
    "Bb = np.array(B)\n",
    "def add_python(X, Y):\n",
    "    return [x + y for x, y in zip(X, Y)]\n",
    "def add_numpy(X, Y):\n",
    "    return np.add(X, Y)\n",
    "\n",
    "python_time = timeit(lambda: add_python(A, B), number = 1000)\n",
    "numpy_time = timeit(lambda: add_numpy(Aa, Bb), number = 1000)\n",
    "print(f\"The time taken to python is: {python_time:.6f}\")\n",
    "print(f\"The time taken to numpy is: {numpy_time:.6f}\")\n"
   ]
  },
  {
   "cell_type": "code",
   "execution_count": 42,
   "metadata": {
    "colab": {
     "base_uri": "https://localhost:8080/"
    },
    "id": "JQFsE81uvPcp",
    "outputId": "108db628-bae8-46f8-cd30-f8f393ef67f1"
   },
   "outputs": [
    {
     "name": "stdout",
     "output_type": "stream",
     "text": [
      "The time taken to python is: 155.638937\n",
      "The time taken to numpy is: 5.202322\n"
     ]
    }
   ],
   "source": [
    "#Element-wise Multiplication\n",
    "def multiply_python(X, Y):\n",
    "    return [x * y for x, y in zip(X, Y)]\n",
    "def multiply_numpy(X, Y):\n",
    "    return np.multiply(X, Y)\n",
    "python_time = timeit(lambda: multiply_python(A, B), number = 1000)\n",
    "numpy_time = timeit(lambda: multiply_numpy(Aa, Bb), number = 1000)\n",
    "print(f\"The time taken to python is: {python_time:.6f}\")\n",
    "print(f\"The time taken to numpy is: {numpy_time:.6f}\")"
   ]
  },
  {
   "cell_type": "code",
   "execution_count": 54,
   "metadata": {
    "id": "Z5TSwwafw8wG"
   },
   "outputs": [],
   "source": [
    "#Dot Product\n",
    "A = [random.randint(0, 100) for _ in range(1000000)]\n",
    "B  = [random.randint(0, 100) for _ in range(1000000)]\n",
    "Aa = np.array(A)\n",
    "Bb = np.array(B)\n",
    "\n",
    "def dot_python(X, Y):\n",
    "    return sum(x * y for x, y in zip(X, Y))\n",
    "def dot_numpy(X, Y):\n",
    "    return np.dot(X, Y)\n",
    "python_time = timeit(lambda: dot_python(A, B), number = 1000)\n",
    "numpy_time = timeit(lambda: dot_numpy(Aa, Bb), number = 1000)\n"
   ]
  },
  {
   "cell_type": "code",
   "execution_count": 55,
   "metadata": {},
   "outputs": [
    {
     "name": "stdout",
     "output_type": "stream",
     "text": [
      "The time taken to python during dot product is: 131.858141\n",
      "The time taken to during dot product numpy is: 1.049829\n"
     ]
    }
   ],
   "source": [
    "print(f\"The time taken to python during dot product is: {python_time:.6f}\")\n",
    "print(f\"The time taken to during dot product numpy is: {numpy_time:.6f}\")"
   ]
  },
  {
   "cell_type": "code",
   "execution_count": null,
   "metadata": {
    "id": "Kk9iWZ9vxOCO"
   },
   "outputs": [],
   "source": [
    "#Matrix Multiplication\n",
    "#Decreased the size of matrices from 1000* 1000 to 100*100 due extreme delay in processing \n",
    "def matrix_multiply_python(X, Y):\n",
    "    result = [[0 for _ in range(len(Y[0]))] for _ in range(len(X))]\n",
    "    for i in range(len(X)):\n",
    "        for j in range(len(Y[0])):\n",
    "            for k in range(len(Y)):\n",
    "                result[i][j] += X[i][k] * Y[k][j]\n",
    "    return result\n",
    "\n",
    "#Matrix Multiplication using Numpy\n",
    "def matrix_multiply_numpy(X, Y):\n",
    "    return np.matmul(X, Y)\n",
    "\n",
    "#Matrix generation of size 1000 * 1000\n",
    "\n",
    "def generate_matrix(rows, cols):\n",
    "    return [[random.randint(0, 100) for _ in range(cols)] for _ in range(rows)]\n",
    "\n",
    "# Generate test matrices\n",
    "A = generate_matrix(100, 100)  # 100x100 matrix\n",
    "B = generate_matrix(100, 100)  # 100x100 matrix\n",
    "\n",
    "# Convert to NumPy arrays\n",
    "Aa = np.array(A)\n",
    "Bb = np.array(B)\n",
    "python_time = timeit(lambda: matrix_multiply_python(A, B), number = 1000)\n",
    "numpy_time = timeit(lambda: matrix_multiply_numpy(Aa, Bb), number = 1000)\n",
    "\n"
   ]
  },
  {
   "cell_type": "code",
   "execution_count": 50,
   "metadata": {},
   "outputs": [
    {
     "name": "stdout",
     "output_type": "stream",
     "text": [
      "The time taken to python during matrix multiplication is: 183.842236\n",
      "The time taken to during matrix multiplication numpy is: 2.115379\n"
     ]
    }
   ],
   "source": [
    "print(f\"The time taken to python during matrix multiplication is: {python_time:.6f}\")\n",
    "print(f\"The time taken to during matrix multiplication numpy is: {numpy_time:.6f}\")"
   ]
  }
 ],
 "metadata": {
  "colab": {
   "provenance": []
  },
  "kernelspec": {
   "display_name": "Python 3",
   "name": "python3"
  },
  "language_info": {
   "codemirror_mode": {
    "name": "ipython",
    "version": 3
   },
   "file_extension": ".py",
   "mimetype": "text/x-python",
   "name": "python",
   "nbconvert_exporter": "python",
   "pygments_lexer": "ipython3",
   "version": "3.12.4"
  }
 },
 "nbformat": 4,
 "nbformat_minor": 0
}
