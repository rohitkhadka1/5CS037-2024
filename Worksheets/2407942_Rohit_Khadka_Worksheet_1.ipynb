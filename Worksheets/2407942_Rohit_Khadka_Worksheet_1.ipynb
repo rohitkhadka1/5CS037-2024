{
  "nbformat": 4,
  "nbformat_minor": 0,
  "metadata": {
    "colab": {
      "provenance": []
    },
    "kernelspec": {
      "name": "python3",
      "display_name": "Python 3"
    },
    "language_info": {
      "name": "python"
    }
  },
  "cells": [
    {
      "cell_type": "code",
      "execution_count": 1,
      "metadata": {
        "id": "fiF9HC7pTWzv"
      },
      "outputs": [],
      "source": [
        "#Import necessary modules and libraries\n",
        "import numpy as np\n",
        "import random"
      ]
    },
    {
      "cell_type": "code",
      "source": [
        "#Exercise 4.1\n",
        "#Problem 1\n",
        "#1)\n",
        "empty_array = np.empty((2,2))\n",
        "print(empty_array)"
      ],
      "metadata": {
        "colab": {
          "base_uri": "https://localhost:8080/"
        },
        "id": "EPmZPdbNUcRO",
        "outputId": "100acf6d-d045-4411-f8b6-a72722d55535"
      },
      "execution_count": 2,
      "outputs": [
        {
          "output_type": "stream",
          "name": "stdout",
          "text": [
            "[[4.89795977e-310 0.00000000e+000]\n",
            " [1.15788732e+151 2.57218471e+064]]\n"
          ]
        }
      ]
    },
    {
      "cell_type": "code",
      "source": [
        "#2)\n",
        "ones_array = np.ones((4,2))\n",
        "print(ones_array)"
      ],
      "metadata": {
        "colab": {
          "base_uri": "https://localhost:8080/"
        },
        "id": "U_S2iTPkUlOp",
        "outputId": "ac8a05ea-afab-472e-c0cf-3dc400b4e384"
      },
      "execution_count": 3,
      "outputs": [
        {
          "output_type": "stream",
          "name": "stdout",
          "text": [
            "[[1. 1.]\n",
            " [1. 1.]\n",
            " [1. 1.]\n",
            " [1. 1.]]\n"
          ]
        }
      ]
    },
    {
      "cell_type": "code",
      "source": [
        "#3)\n",
        "ones_array.fill(4)\n",
        "print(ones_array)"
      ],
      "metadata": {
        "colab": {
          "base_uri": "https://localhost:8080/"
        },
        "id": "107AqumPU0ha",
        "outputId": "43121456-2da5-4c4e-8a69-cd6ec8983d24"
      },
      "execution_count": 4,
      "outputs": [
        {
          "output_type": "stream",
          "name": "stdout",
          "text": [
            "[[4. 4.]\n",
            " [4. 4.]\n",
            " [4. 4.]\n",
            " [4. 4.]]\n"
          ]
        }
      ]
    },
    {
      "cell_type": "code",
      "source": [
        "#4)\n",
        "zeros_like = np.zeros_like(ones_array)\n",
        "zeros_like"
      ],
      "metadata": {
        "colab": {
          "base_uri": "https://localhost:8080/"
        },
        "id": "qbfM0Zf6VVs-",
        "outputId": "f752c7b2-1b97-48a3-90d0-bcd7d2f56541"
      },
      "execution_count": 5,
      "outputs": [
        {
          "output_type": "execute_result",
          "data": {
            "text/plain": [
              "array([[0., 0.],\n",
              "       [0., 0.],\n",
              "       [0., 0.],\n",
              "       [0., 0.]])"
            ]
          },
          "metadata": {},
          "execution_count": 5
        }
      ]
    },
    {
      "cell_type": "code",
      "source": [
        "#5)\n",
        "a = np.arange(1,10)\n",
        "b = a.reshape(3,3)\n",
        "print(b)\n",
        "ones_like = np.ones_like(b)\n",
        "print(ones_like)"
      ],
      "metadata": {
        "colab": {
          "base_uri": "https://localhost:8080/"
        },
        "id": "zz9c2awWWSgP",
        "outputId": "6185928d-5a55-4957-e4ab-0ec2dc31e1c5"
      },
      "execution_count": 6,
      "outputs": [
        {
          "output_type": "stream",
          "name": "stdout",
          "text": [
            "[[1 2 3]\n",
            " [4 5 6]\n",
            " [7 8 9]]\n",
            "[[1 1 1]\n",
            " [1 1 1]\n",
            " [1 1 1]]\n"
          ]
        }
      ]
    },
    {
      "cell_type": "code",
      "source": [
        "#6)\n",
        "new_list = [1,2,3,4]\n",
        "print(new_list)\n",
        "new_array = np.array(new_list)\n",
        "new_array"
      ],
      "metadata": {
        "colab": {
          "base_uri": "https://localhost:8080/"
        },
        "id": "85x094xQXK8m",
        "outputId": "c77ae329-5e1c-4edb-9cc6-56a2d06a00c0"
      },
      "execution_count": 7,
      "outputs": [
        {
          "output_type": "stream",
          "name": "stdout",
          "text": [
            "[1, 2, 3, 4]\n"
          ]
        },
        {
          "output_type": "execute_result",
          "data": {
            "text/plain": [
              "array([1, 2, 3, 4])"
            ]
          },
          "metadata": {},
          "execution_count": 7
        }
      ]
    },
    {
      "cell_type": "code",
      "source": [
        "#Problem 2\n",
        "#1)\n",
        "array_range = np.arange(10, 49)\n",
        "array_range"
      ],
      "metadata": {
        "colab": {
          "base_uri": "https://localhost:8080/"
        },
        "id": "_pQetvfmXWTc",
        "outputId": "25c1ec6a-b041-45aa-86f9-e544c00d2a03"
      },
      "execution_count": 8,
      "outputs": [
        {
          "output_type": "execute_result",
          "data": {
            "text/plain": [
              "array([10, 11, 12, 13, 14, 15, 16, 17, 18, 19, 20, 21, 22, 23, 24, 25, 26,\n",
              "       27, 28, 29, 30, 31, 32, 33, 34, 35, 36, 37, 38, 39, 40, 41, 42, 43,\n",
              "       44, 45, 46, 47, 48])"
            ]
          },
          "metadata": {},
          "execution_count": 8
        }
      ]
    },
    {
      "cell_type": "code",
      "source": [
        "#2)\n",
        "array_linspace = np.linspace(0,8, endpoint = True, num = 9)\n",
        "array_linspace.reshape(3,3)"
      ],
      "metadata": {
        "colab": {
          "base_uri": "https://localhost:8080/"
        },
        "id": "LMh24Y8BXqML",
        "outputId": "e3bf1d82-59ff-41b6-ff4a-7b37d1d6d34e"
      },
      "execution_count": 9,
      "outputs": [
        {
          "output_type": "execute_result",
          "data": {
            "text/plain": [
              "array([[0., 1., 2.],\n",
              "       [3., 4., 5.],\n",
              "       [6., 7., 8.]])"
            ]
          },
          "metadata": {},
          "execution_count": 9
        }
      ]
    },
    {
      "cell_type": "code",
      "source": [
        "#3)\n",
        "identity_matrix = np.eye(3)\n",
        "identity_matrix"
      ],
      "metadata": {
        "colab": {
          "base_uri": "https://localhost:8080/"
        },
        "id": "rFpLDVMwX_BD",
        "outputId": "b4c63716-be39-4533-edd5-cdf5bbe7a5f6"
      },
      "execution_count": 10,
      "outputs": [
        {
          "output_type": "execute_result",
          "data": {
            "text/plain": [
              "array([[1., 0., 0.],\n",
              "       [0., 1., 0.],\n",
              "       [0., 0., 1.]])"
            ]
          },
          "metadata": {},
          "execution_count": 10
        }
      ]
    },
    {
      "cell_type": "code",
      "source": [
        "#4)\n",
        "random_array = np.random.randint(0,30, size = 30)\n",
        "random_array\n",
        "array_mean = np.mean(random_array)\n",
        "array_mean"
      ],
      "metadata": {
        "colab": {
          "base_uri": "https://localhost:8080/"
        },
        "id": "CYB36Z89YGcu",
        "outputId": "3a5fce2a-aa91-4bfd-9fff-8d9d2397b935"
      },
      "execution_count": 11,
      "outputs": [
        {
          "output_type": "execute_result",
          "data": {
            "text/plain": [
              "13.2"
            ]
          },
          "metadata": {},
          "execution_count": 11
        }
      ]
    },
    {
      "cell_type": "code",
      "source": [
        "#5)\n",
        "random_array_1 = np.random.randint(0, 50, size = (10,10))\n",
        "random_array_1\n",
        "print(\"The maximum value is: \", np.max(random_array_1))\n",
        "print(\"The minimum value is: \", np.min(random_array_1))"
      ],
      "metadata": {
        "colab": {
          "base_uri": "https://localhost:8080/"
        },
        "id": "BpBLsihEZnIB",
        "outputId": "3607fe29-0c5f-4c96-8871-8693bc5e09fa"
      },
      "execution_count": 12,
      "outputs": [
        {
          "output_type": "stream",
          "name": "stdout",
          "text": [
            "The maximum value is:  49\n",
            "The minimum value is:  0\n"
          ]
        }
      ]
    },
    {
      "cell_type": "code",
      "source": [
        "#6)\n",
        "zero_array = np.zeros(5)\n",
        "zero_array\n",
        "zero_array[4] = 1\n",
        "zero_array"
      ],
      "metadata": {
        "colab": {
          "base_uri": "https://localhost:8080/"
        },
        "id": "JiJIsVzWaRpX",
        "outputId": "09cc8e26-9da0-41cc-8597-163c743142d3"
      },
      "execution_count": 13,
      "outputs": [
        {
          "output_type": "execute_result",
          "data": {
            "text/plain": [
              "array([0., 0., 0., 0., 1.])"
            ]
          },
          "metadata": {},
          "execution_count": 13
        }
      ]
    },
    {
      "cell_type": "code",
      "source": [
        "#7\n",
        "arr = [1,2,0,0,4,0]\n",
        "arr1 = np.array(arr)\n",
        "reversed = np.flip(arr1)\n",
        "reversed"
      ],
      "metadata": {
        "colab": {
          "base_uri": "https://localhost:8080/"
        },
        "id": "mejM5rKOamjm",
        "outputId": "0b0fcf51-e5c1-42a3-883f-004739c3cd91"
      },
      "execution_count": 14,
      "outputs": [
        {
          "output_type": "execute_result",
          "data": {
            "text/plain": [
              "array([0, 4, 0, 0, 2, 1])"
            ]
          },
          "metadata": {},
          "execution_count": 14
        }
      ]
    },
    {
      "cell_type": "code",
      "source": [
        "#8)\n",
        "two_d_array = np.array([[2,3,4], [2,3,4]])\n",
        "two_d_array[0:2, 0:3:2] = 1\n",
        "two_d_array[0:2, 1:3:2] = 0\n",
        "two_d_array"
      ],
      "metadata": {
        "colab": {
          "base_uri": "https://localhost:8080/"
        },
        "id": "a9-L41r3bTEH",
        "outputId": "a9ef7707-2795-456b-cad5-db15785ed7a5"
      },
      "execution_count": 15,
      "outputs": [
        {
          "output_type": "execute_result",
          "data": {
            "text/plain": [
              "array([[1, 0, 1],\n",
              "       [1, 0, 1]])"
            ]
          },
          "metadata": {},
          "execution_count": 15
        }
      ]
    },
    {
      "cell_type": "code",
      "source": [
        "#9)\n",
        "eight_d_array = np.zeros((8,8))\n",
        "\n",
        "eight_d_array[::2, ::2] = 1\n",
        "eight_d_array[1::2, 1::2] = 1\n",
        "eight_d_array\n"
      ],
      "metadata": {
        "colab": {
          "base_uri": "https://localhost:8080/"
        },
        "id": "H8OG0ro1c0xW",
        "outputId": "43f9bbb8-654a-48b2-9f0e-fe57a5a53807"
      },
      "execution_count": 16,
      "outputs": [
        {
          "output_type": "execute_result",
          "data": {
            "text/plain": [
              "array([[1., 0., 1., 0., 1., 0., 1., 0.],\n",
              "       [0., 1., 0., 1., 0., 1., 0., 1.],\n",
              "       [1., 0., 1., 0., 1., 0., 1., 0.],\n",
              "       [0., 1., 0., 1., 0., 1., 0., 1.],\n",
              "       [1., 0., 1., 0., 1., 0., 1., 0.],\n",
              "       [0., 1., 0., 1., 0., 1., 0., 1.],\n",
              "       [1., 0., 1., 0., 1., 0., 1., 0.],\n",
              "       [0., 1., 0., 1., 0., 1., 0., 1.]])"
            ]
          },
          "metadata": {},
          "execution_count": 16
        }
      ]
    },
    {
      "cell_type": "code",
      "source": [
        "#Problem 3\n",
        "x = np.array([[1,2],[3,5]])\n",
        "y = np.array([[5,6],[7,8]])\n",
        "v = np.array([9,10])\n",
        "w = np.array([11,12]);\n",
        "#1)\n",
        "print(x+y, v+w)"
      ],
      "metadata": {
        "id": "ahHYS30kek-M",
        "colab": {
          "base_uri": "https://localhost:8080/"
        },
        "outputId": "6c93a9b5-9ca4-4061-ace5-c6cb58ad800a"
      },
      "execution_count": 17,
      "outputs": [
        {
          "output_type": "stream",
          "name": "stdout",
          "text": [
            "[[ 6  8]\n",
            " [10 13]] [20 22]\n"
          ]
        }
      ]
    },
    {
      "cell_type": "code",
      "source": [
        "#2)\n",
        "print(x-y, v-w)"
      ],
      "metadata": {
        "colab": {
          "base_uri": "https://localhost:8080/"
        },
        "id": "_k2LPSsCLFLM",
        "outputId": "56592d0a-5600-4589-fe9a-83268f4049d0"
      },
      "execution_count": 18,
      "outputs": [
        {
          "output_type": "stream",
          "name": "stdout",
          "text": [
            "[[-4 -4]\n",
            " [-4 -3]] [-2 -2]\n"
          ]
        }
      ]
    },
    {
      "cell_type": "code",
      "source": [
        "#3)\n",
        "print(x*3, v*4)"
      ],
      "metadata": {
        "colab": {
          "base_uri": "https://localhost:8080/"
        },
        "id": "SC5hREIcLYf7",
        "outputId": "5771de70-56d1-4ef5-fe4d-e37676c35ea4"
      },
      "execution_count": 19,
      "outputs": [
        {
          "output_type": "stream",
          "name": "stdout",
          "text": [
            "[[ 3  6]\n",
            " [ 9 15]] [36 40]\n"
          ]
        }
      ]
    },
    {
      "cell_type": "code",
      "source": [
        "#4)\n",
        "print(x ** 2, v ** 2)"
      ],
      "metadata": {
        "colab": {
          "base_uri": "https://localhost:8080/"
        },
        "id": "m8C0wAGkLcW3",
        "outputId": "27b75845-abb3-4ee6-8b2d-f2ce3a02c2da"
      },
      "execution_count": 20,
      "outputs": [
        {
          "output_type": "stream",
          "name": "stdout",
          "text": [
            "[[ 1  4]\n",
            " [ 9 25]] [ 81 100]\n"
          ]
        }
      ]
    },
    {
      "cell_type": "code",
      "source": [
        "#5)\n",
        "print(\"The dot product of x and y is: \",np.dot(x,y), sep = '\\n\\n')\n",
        "print(\"The dot product of x and v is: \",np.dot(x,v), sep = '\\n\\n')\n",
        "print(\"The dot product of v and w is: \",np.dot(v,w), sep = '\\n\\n')"
      ],
      "metadata": {
        "colab": {
          "base_uri": "https://localhost:8080/"
        },
        "id": "mswnAYRnLohg",
        "outputId": "4a7e22ae-8878-41f3-873d-140f6d1a32cc"
      },
      "execution_count": 23,
      "outputs": [
        {
          "output_type": "stream",
          "name": "stdout",
          "text": [
            "The dot product of x and y is: \n",
            "\n",
            "[[19 22]\n",
            " [50 58]]\n",
            "The dot product of x and v is: \n",
            "\n",
            "[29 77]\n",
            "The dot product of v and w is: \n",
            "\n",
            "219\n"
          ]
        }
      ]
    },
    {
      "cell_type": "code",
      "source": [
        "#6)\n",
        "#Concatenation of matrices\n",
        "print(\"The concatenation along row axis: \", np.concatenate((x,y), axis = 0))\n",
        "print(\"The concatenation along column axis: \",np.concatenate((x,y), axis = 1))"
      ],
      "metadata": {
        "id": "RALpMxBdMBsz",
        "colab": {
          "base_uri": "https://localhost:8080/"
        },
        "outputId": "9094a9d3-f407-4084-b24c-f3480c777435"
      },
      "execution_count": 24,
      "outputs": [
        {
          "output_type": "stream",
          "name": "stdout",
          "text": [
            "The concatenation along row axis:  [[1 2]\n",
            " [3 5]\n",
            " [5 6]\n",
            " [7 8]]\n",
            "The concatenation along column axis:  [[1 2 5 6]\n",
            " [3 5 7 8]]\n"
          ]
        }
      ]
    },
    {
      "cell_type": "code",
      "source": [
        "#7)\n",
        "np.concatenate((x,v), axis = 1)"
      ],
      "metadata": {
        "colab": {
          "base_uri": "https://localhost:8080/",
          "height": 176
        },
        "id": "MFrUgX6-n4xn",
        "outputId": "22b730d0-5bf1-44ca-a9b2-826e3709cd3f"
      },
      "execution_count": 26,
      "outputs": [
        {
          "output_type": "error",
          "ename": "ValueError",
          "evalue": "all the input arrays must have same number of dimensions, but the array at index 0 has 2 dimension(s) and the array at index 1 has 1 dimension(s)",
          "traceback": [
            "\u001b[0;31m---------------------------------------------------------------------------\u001b[0m",
            "\u001b[0;31mValueError\u001b[0m                                Traceback (most recent call last)",
            "\u001b[0;32m<ipython-input-26-0c80dd8c268a>\u001b[0m in \u001b[0;36m<cell line: 2>\u001b[0;34m()\u001b[0m\n\u001b[1;32m      1\u001b[0m \u001b[0;31m#7)\u001b[0m\u001b[0;34m\u001b[0m\u001b[0;34m\u001b[0m\u001b[0m\n\u001b[0;32m----> 2\u001b[0;31m \u001b[0mnp\u001b[0m\u001b[0;34m.\u001b[0m\u001b[0mconcatenate\u001b[0m\u001b[0;34m(\u001b[0m\u001b[0;34m(\u001b[0m\u001b[0mx\u001b[0m\u001b[0;34m,\u001b[0m\u001b[0mv\u001b[0m\u001b[0;34m)\u001b[0m\u001b[0;34m,\u001b[0m \u001b[0maxis\u001b[0m \u001b[0;34m=\u001b[0m \u001b[0;36m1\u001b[0m\u001b[0;34m)\u001b[0m\u001b[0;34m\u001b[0m\u001b[0;34m\u001b[0m\u001b[0m\n\u001b[0m",
            "\u001b[0;31mValueError\u001b[0m: all the input arrays must have same number of dimensions, but the array at index 0 has 2 dimension(s) and the array at index 1 has 1 dimension(s)"
          ]
        }
      ]
    },
    {
      "cell_type": "code",
      "source": [
        "#7)\n",
        "np.concatenate((x,v), axis = 0)"
      ],
      "metadata": {
        "colab": {
          "base_uri": "https://localhost:8080/",
          "height": 176
        },
        "id": "Aqxa2EndoG6V",
        "outputId": "9499f68b-5e45-4033-dc2e-4abe9d9f161e"
      },
      "execution_count": 27,
      "outputs": [
        {
          "output_type": "error",
          "ename": "ValueError",
          "evalue": "all the input arrays must have same number of dimensions, but the array at index 0 has 2 dimension(s) and the array at index 1 has 1 dimension(s)",
          "traceback": [
            "\u001b[0;31m---------------------------------------------------------------------------\u001b[0m",
            "\u001b[0;31mValueError\u001b[0m                                Traceback (most recent call last)",
            "\u001b[0;32m<ipython-input-27-f0df623c2c6b>\u001b[0m in \u001b[0;36m<cell line: 2>\u001b[0;34m()\u001b[0m\n\u001b[1;32m      1\u001b[0m \u001b[0;31m#7)\u001b[0m\u001b[0;34m\u001b[0m\u001b[0;34m\u001b[0m\u001b[0m\n\u001b[0;32m----> 2\u001b[0;31m \u001b[0mnp\u001b[0m\u001b[0;34m.\u001b[0m\u001b[0mconcatenate\u001b[0m\u001b[0;34m(\u001b[0m\u001b[0;34m(\u001b[0m\u001b[0mx\u001b[0m\u001b[0;34m,\u001b[0m\u001b[0mv\u001b[0m\u001b[0;34m)\u001b[0m\u001b[0;34m,\u001b[0m \u001b[0maxis\u001b[0m \u001b[0;34m=\u001b[0m \u001b[0;36m0\u001b[0m\u001b[0;34m)\u001b[0m\u001b[0;34m\u001b[0m\u001b[0;34m\u001b[0m\u001b[0m\n\u001b[0m",
            "\u001b[0;31mValueError\u001b[0m: all the input arrays must have same number of dimensions, but the array at index 0 has 2 dimension(s) and the array at index 1 has 1 dimension(s)"
          ]
        }
      ]
    },
    {
      "cell_type": "code",
      "source": [
        "\"\"\"\n",
        "We got error while performing concatenation along row and column as the matrices need to be of same shape in order to perform concatenation.\n",
        "\"\"\""
      ],
      "metadata": {
        "colab": {
          "base_uri": "https://localhost:8080/",
          "height": 35
        },
        "id": "JWARNks7oUqg",
        "outputId": "6668d6ad-57da-4f74-ce4b-00005d47269b"
      },
      "execution_count": 28,
      "outputs": [
        {
          "output_type": "execute_result",
          "data": {
            "text/plain": [
              "'\\nWe got error while performing concatenation along row and column as the matrices need to be of same shape in order to perform concatenation.\\n'"
            ],
            "application/vnd.google.colaboratory.intrinsic+json": {
              "type": "string"
            }
          },
          "metadata": {},
          "execution_count": 28
        }
      ]
    },
    {
      "cell_type": "code",
      "source": [
        "#Problem 4\n",
        "A = np.array([[3,4],[7,8]])\n",
        "B = np.array([[5,3],[2,1]])"
      ],
      "metadata": {
        "id": "90kemKJapHb3"
      },
      "execution_count": 30,
      "outputs": []
    },
    {
      "cell_type": "code",
      "source": [
        "#A.A−1 = I\n",
        "np.matmul(A, np.linalg.inv(A))"
      ],
      "metadata": {
        "colab": {
          "base_uri": "https://localhost:8080/"
        },
        "id": "_OFA9ErSpZli",
        "outputId": "7b1cf6ea-b0cb-4acc-9d52-6da3cd5ff652"
      },
      "execution_count": 32,
      "outputs": [
        {
          "output_type": "execute_result",
          "data": {
            "text/plain": [
              "array([[1.00000000e+00, 0.00000000e+00],\n",
              "       [1.77635684e-15, 1.00000000e+00]])"
            ]
          },
          "metadata": {},
          "execution_count": 32
        }
      ]
    },
    {
      "cell_type": "code",
      "source": [
        "A @ np.linalg.inv(A)"
      ],
      "metadata": {
        "colab": {
          "base_uri": "https://localhost:8080/"
        },
        "id": "1zcFZ6kbpjLn",
        "outputId": "8e40e2c2-57b2-4572-ae22-9e2b5c1ee013"
      },
      "execution_count": 33,
      "outputs": [
        {
          "output_type": "execute_result",
          "data": {
            "text/plain": [
              "array([[1.00000000e+00, 0.00000000e+00],\n",
              "       [1.77635684e-15, 1.00000000e+00]])"
            ]
          },
          "metadata": {},
          "execution_count": 33
        }
      ]
    },
    {
      "cell_type": "code",
      "source": [
        "#AB ̸= BA\n",
        "AB = A @ B\n",
        "BA = B @ A\n",
        "AB == BA"
      ],
      "metadata": {
        "colab": {
          "base_uri": "https://localhost:8080/"
        },
        "id": "-LYY6yNopxy7",
        "outputId": "586bd2c0-0b3a-4244-b13a-1e2774fef3b5"
      },
      "execution_count": 34,
      "outputs": [
        {
          "output_type": "execute_result",
          "data": {
            "text/plain": [
              "array([[False, False],\n",
              "       [False, False]])"
            ]
          },
          "metadata": {},
          "execution_count": 34
        }
      ]
    },
    {
      "cell_type": "code",
      "source": [
        "# (AB)T = BTAT\n",
        "AB_T = np.transpose(AB)\n",
        "BA_T = np.transpose(B) @ np.transpose(A)\n",
        "AB_T == BA_T"
      ],
      "metadata": {
        "colab": {
          "base_uri": "https://localhost:8080/"
        },
        "id": "AxD09YPCp3SH",
        "outputId": "fc9bb48b-76ad-4943-dde2-7e070daf57aa"
      },
      "execution_count": 35,
      "outputs": [
        {
          "output_type": "execute_result",
          "data": {
            "text/plain": [
              "array([[ True,  True],\n",
              "       [ True,  True]])"
            ]
          },
          "metadata": {},
          "execution_count": 35
        }
      ]
    },
    {
      "cell_type": "code",
      "source": [
        "A = np.array([[2, -3, 1], [1, -1, 2], [3, 1, -1]])\n",
        "B = np.array([-1, -3, 9])\n",
        "X = np.linalg.solve(A,B)\n",
        "X"
      ],
      "metadata": {
        "colab": {
          "base_uri": "https://localhost:8080/"
        },
        "id": "ozZXVJkxqGg_",
        "outputId": "891a6526-4e12-423c-9def-f14e400da845"
      },
      "execution_count": 36,
      "outputs": [
        {
          "output_type": "execute_result",
          "data": {
            "text/plain": [
              "array([ 2.,  1., -2.])"
            ]
          },
          "metadata": {},
          "execution_count": 36
        }
      ]
    },
    {
      "cell_type": "code",
      "source": [
        "#Using Inverse Method\n",
        "A_inv = np.linalg.inv(A)\n",
        "X = A_inv @ B\n",
        "X"
      ],
      "metadata": {
        "colab": {
          "base_uri": "https://localhost:8080/"
        },
        "id": "03zYb1Cmq-W7",
        "outputId": "6f9c0fb7-c934-49e5-9f8a-2736f562b745"
      },
      "execution_count": 37,
      "outputs": [
        {
          "output_type": "execute_result",
          "data": {
            "text/plain": [
              "array([ 2.,  1., -2.])"
            ]
          },
          "metadata": {},
          "execution_count": 37
        }
      ]
    },
    {
      "cell_type": "code",
      "source": [
        "#4.2 Experiment: How Fast is Numpy?\n",
        "#random.seed(0)\n",
        "#Element-wise Addition\n",
        "from timeit import timeit\n",
        "A = [random.randint(0, 100) for _ in range(1000000)]\n",
        "B  = [random.randint(0, 100) for _ in range(1000000)]\n",
        "Aa = np.array(A)\n",
        "Bb = np.array(B)\n",
        "def add_python(X, Y):\n",
        "    return [x + y for x, y in zip(X, Y)]\n",
        "def add_numpy(X, Y):\n",
        "    return np.add(X, Y)\n",
        "\n",
        "python_time = timeit(lambda: add_python(A, B), number = 1000)\n",
        "numpy_time = timeit(lambda: add_numpy(Aa, Bb), number = 1000)\n",
        "print(f\"The time taken to python is: {python_time:.6f}\")\n",
        "print(f\"The time taken to numpy is: {numpy_time:.6f}\")\n"
      ],
      "metadata": {
        "colab": {
          "base_uri": "https://localhost:8080/"
        },
        "id": "Iv1KI93CrTGn",
        "outputId": "074bdacb-81ab-4268-a6b7-90db986ad8da"
      },
      "execution_count": 39,
      "outputs": [
        {
          "output_type": "stream",
          "name": "stdout",
          "text": [
            "The time taken to python is: 67.138079\n",
            "The time taken to numpy is: 1.237628\n"
          ]
        }
      ]
    },
    {
      "cell_type": "code",
      "source": [
        "#Element-wise Multiplication\n",
        "def multiply_python(X, Y):\n",
        "    return [x * y for x, y in zip(X, Y)]\n",
        "def multiply_numpy(X, Y):\n",
        "    return np.multiply(X, Y)\n",
        "python_time = timeit(lambda: multiply_python(A, B), number = 1000)\n",
        "numpy_time = timeit(lambda: multiply_numpy(Aa, Bb), number = 1000)\n",
        "print(f\"The time taken to python is: {python_time:.6f}\")\n",
        "print(f\"The time taken to numpy is: {numpy_time:.6f}\")"
      ],
      "metadata": {
        "colab": {
          "base_uri": "https://localhost:8080/"
        },
        "id": "JQFsE81uvPcp",
        "outputId": "108db628-bae8-46f8-cd30-f8f393ef67f1"
      },
      "execution_count": 41,
      "outputs": [
        {
          "output_type": "stream",
          "name": "stdout",
          "text": [
            "The time taken to python is: 105.186636\n",
            "The time taken to numpy is: 1.222604\n"
          ]
        }
      ]
    },
    {
      "cell_type": "code",
      "source": [
        "#Dot Product\n",
        "def dot_python(X, Y):\n",
        "    return sum(x * y for x, y in zip(X, Y))\n",
        "def dot_numpy(X, Y):\n",
        "    return np.dot(X, Y)\n",
        "python_time = timeit(lambda: dot_python(A, B), number = 1000)\n",
        "numpy_time = timeit(lambda: dot_numpy(Aa, Bb), number = 1000)"
      ],
      "metadata": {
        "id": "Z5TSwwafw8wG"
      },
      "execution_count": 43,
      "outputs": []
    },
    {
      "cell_type": "code",
      "source": [
        "#Matrix Multiplication\n",
        "def matrix_multiply_python(X, Y):\n",
        "    result = [[0 for _ in range(len(Y[0]))] for _ in range(len(X))]\n",
        "    for i in range(len(X)):\n",
        "        for j in range(len(Y[0])):\n",
        "            for k in range(len(Y)):\n",
        "                result[i][j] += X[i][k] * Y[k][j]\n",
        "    return result\n",
        "\n",
        "def matrix_multiply_numpy(X, Y):\n",
        "    return np.matmul(X, Y)\n",
        "python_time = timeit(lambda: matrix_multiply_python(A, B), number = 1000)\n",
        "numpy_time = timeit(lambda: matrix_multiply_numpy(Aa, Bb), number = 1000)"
      ],
      "metadata": {
        "id": "Kk9iWZ9vxOCO"
      },
      "execution_count": null,
      "outputs": []
    }
  ]
}